{
 "cells": [
  {
   "cell_type": "code",
   "execution_count": null,
   "metadata": {},
   "outputs": [],
   "source": [
    "import gzip\n",
    "import os\n",
    "\n",
    "import cudf\n",
    "from cuml import DBSCAN as cumlDBSCAN\n",
    "import numpy as np\n",
    "import pandas as pd\n",
    "from sklearn.cluster import DBSCAN as skDBSCAN\n",
    "from sklearn.metrics import mean_squared_error"
   ]
  },
  {
   "cell_type": "markdown",
   "metadata": {},
   "source": [
    "# Helper Functions"
   ]
  },
  {
   "cell_type": "code",
   "execution_count": null,
   "metadata": {},
   "outputs": [],
   "source": [
    "def load_data(nrows, ncols, cached=\"data/mortgage.npy.gz\"):\n",
    "    \"\"\"Load mortgage dataset if it is available, otherwise use random data.\"\"\"\n",
    "    if os.path.exists(cached):\n",
    "        print(\"Using mortgage data.\")\n",
    "        with gzip.open(cached) as f:\n",
    "            X = np.load(f)\n",
    "        X = X[np.random.randint(0, X.shape[0] - 1, nrows), :ncols]\n",
    "    else:\n",
    "        print(\"Using random data.\")\n",
    "        X = np.random.rand(nrows,ncols)\n",
    "    df = pd.DataFrame({\"fea%d\" % i: X[:, i] for i in range(X.shape[1])})\n",
    "    return df"
   ]
  },
  {
   "cell_type": "code",
   "execution_count": null,
   "metadata": {},
   "outputs": [],
   "source": [
    "def array_equal(a, b, threshold=5e-3, with_sign=True):\n",
    "    \"\"\"Check the equality of two arrays with a given threshold.\"\"\"\n",
    "    a = to_nparray(a)\n",
    "    b = to_nparray(b)\n",
    "    if not with_sign:\n",
    "        a, b = np.abs(a), np.abs(b)\n",
    "    res = mean_squared_error(a,b) < threshold\n",
    "    return res\n",
    "\n",
    "def to_nparray(x):\n",
    "    \"\"\"Convert a given array into a numpy array.\"\"\"\n",
    "    if isinstance(x, np.ndarray) or isinstance(x, pd.DataFrame):\n",
    "        return np.array(x)\n",
    "    elif isinstance(x, np.float64):\n",
    "        return np.array([x])\n",
    "    elif isinstance(x, cudf.DataFrame) or isinstance(x, cudf.Series):\n",
    "        return x.to_pandas().values\n",
    "    return x"
   ]
  },
  {
   "cell_type": "markdown",
   "metadata": {},
   "source": [
    "# Run tests"
   ]
  },
  {
   "cell_type": "code",
   "execution_count": null,
   "metadata": {},
   "outputs": [],
   "source": [
    "%%time\n",
    "nrows = 10000\n",
    "ncols = 128\n",
    "\n",
    "X = load_data(nrows,ncols)\n",
    "print(\"Data shape:\", X.shape)"
   ]
  },
  {
   "cell_type": "code",
   "execution_count": null,
   "metadata": {},
   "outputs": [],
   "source": [
    "eps = 3\n",
    "min_samples = 2"
   ]
  },
  {
   "cell_type": "code",
   "execution_count": null,
   "metadata": {},
   "outputs": [],
   "source": [
    "%%time\n",
    "clustering_sk = skDBSCAN(eps=eps, min_samples=min_samples)\n",
    "clustering_sk.fit(X)"
   ]
  },
  {
   "cell_type": "code",
   "execution_count": null,
   "metadata": {},
   "outputs": [],
   "source": [
    "%%time\n",
    "X = cudf.DataFrame.from_pandas(X)"
   ]
  },
  {
   "cell_type": "code",
   "execution_count": null,
   "metadata": {},
   "outputs": [],
   "source": [
    "%%time\n",
    "clustering_cuml = cumlDBSCAN(eps=eps, min_samples=min_samples)\n",
    "clustering_cuml.fit(X)"
   ]
  },
  {
   "cell_type": "code",
   "execution_count": null,
   "metadata": {},
   "outputs": [],
   "source": [
    "passed = array_equal(clustering_sk.labels_, clustering_cuml.labels_)\n",
    "message = \"compare dbscan: cuml vs sklearn labels_ %s\" % (\"equal\" if passed else \"NOT equal\")\n",
    "print(message)"
   ]
  }
 ],
 "metadata": {
  "kernelspec": {
   "display_name": "Python 3",
   "language": "python",
   "name": "python3"
  },
  "language_info": {
   "codemirror_mode": {
    "name": "ipython",
    "version": 3
   },
   "file_extension": ".py",
   "mimetype": "text/x-python",
   "name": "python",
   "nbconvert_exporter": "python",
   "pygments_lexer": "ipython3",
   "version": "3.5.5"
  }
 },
 "nbformat": 4,
 "nbformat_minor": 2
}
