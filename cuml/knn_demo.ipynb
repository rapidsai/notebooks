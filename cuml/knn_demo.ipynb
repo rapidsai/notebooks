{
 "cells": [
  {
   "cell_type": "code",
   "execution_count": null,
   "metadata": {},
   "outputs": [],
   "source": [
    "import gzip\n",
    "import os\n",
    "\n",
    "import cudf\n",
    "from cuml import KNN as cumlKNN\n",
    "import numpy as np\n",
    "import pandas as pd\n",
    "from sklearn.metrics import mean_squared_error\n",
    "from sklearn.neighbors import KDTree as skKNN"
   ]
  },
  {
   "cell_type": "markdown",
   "metadata": {},
   "source": [
    "# Helper Functions"
   ]
  },
  {
   "cell_type": "code",
   "execution_count": null,
   "metadata": {},
   "outputs": [],
   "source": [
    "def load_data(nrows, ncols, cached=\"data/mortgage.npy.gz\", source=\"mortgage\"):\n",
    "    \"\"\"Load mortgage dataset if available, otherwise use random data.\"\"\"\n",
    "    if os.path.exists(cached) and source == \"mortgage\":\n",
    "        print(\"Using mortgage data.\")\n",
    "        with gzip.open(cached) as f:\n",
    "            X = np.load(f)\n",
    "        X = X[np.random.randint(0, X.shape[0] - 1, nrows), :ncols]\n",
    "    else:\n",
    "        print(\"Using random data.\")\n",
    "        X = np.random.random((nrows, ncols)).astype(\"float32\")\n",
    "    df = pd.DataFrame({\"fea%d\" %i: X[:, i] for i in range(X.shape[1])}).fillna(0)\n",
    "    return df"
   ]
  },
  {
   "cell_type": "code",
   "execution_count": null,
   "metadata": {},
   "outputs": [],
   "source": [
    "def array_equal(a, b, threshold=1e-2, with_sign=True, metric=\"mse\"):\n",
    "    \"\"\"Check the equality of two arrays with a given threshold and metric.\"\"\"\n",
    "    a = to_nparray(a)\n",
    "    b = to_nparray(b)\n",
    "    if not with_sign:\n",
    "        a, b = np.abs(a), np.abs(b)\n",
    "    if metric == \"mse\":\n",
    "        error = mean_squared_error(a, b)\n",
    "    else:\n",
    "        error = np.sum(a != b) / (a.shape[0] * a.shape[1])\n",
    "    res = error < threshold\n",
    "    return res\n",
    "\n",
    "def to_nparray(x):\n",
    "    \"\"\"Convert a given array into a numpy array.\"\"\"\n",
    "    if isinstance(x, np.ndarray) or isinstance(x, pd.DataFrame):\n",
    "        return np.array(x)\n",
    "    elif isinstance(x, np.float64):\n",
    "        return np.array([x])\n",
    "    elif isinstance(x, cudf.DataFrame) or isinstance(x, cudf.Series):\n",
    "        return x.to_pandas().values\n",
    "    return x    "
   ]
  },
  {
   "cell_type": "markdown",
   "metadata": {},
   "source": [
    "# Run tests"
   ]
  },
  {
   "cell_type": "code",
   "execution_count": null,
   "metadata": {},
   "outputs": [],
   "source": [
    "%%time\n",
    "nrows = 2**16\n",
    "ncols = 40\n",
    "\n",
    "X = load_data(nrows, ncols)\n",
    "print(\"Data shape:\", X.shape)"
   ]
  },
  {
   "cell_type": "code",
   "execution_count": null,
   "metadata": {},
   "outputs": [],
   "source": [
    "n_neighbors = 10"
   ]
  },
  {
   "cell_type": "code",
   "execution_count": null,
   "metadata": {},
   "outputs": [],
   "source": [
    "%%time\n",
    "knn_sk = skKNN(X)\n",
    "D_sk, I_sk = knn_sk.query(X, n_neighbors)"
   ]
  },
  {
   "cell_type": "code",
   "execution_count": null,
   "metadata": {},
   "outputs": [],
   "source": [
    "%%time\n",
    "X = cudf.DataFrame.from_pandas(X)"
   ]
  },
  {
   "cell_type": "code",
   "execution_count": null,
   "metadata": {},
   "outputs": [],
   "source": [
    "%%time\n",
    "knn_cuml = cumlKNN(n_gpus=1)\n",
    "knn_cuml.fit(X)\n",
    "D_cuml, I_cuml = knn_cuml.query(X, n_neighbors)"
   ]
  },
  {
   "cell_type": "code",
   "execution_count": null,
   "metadata": {},
   "outputs": [],
   "source": [
    "passed = array_equal(D_sk, D_cuml)\n",
    "message = \"compare knn: cuml vs sklearn distances %s\" % (\"equal\" if passed else \"NOT equal\")\n",
    "print(message)\n",
    "passed = array_equal(I_sk, I_cuml)\n",
    "message = \"compare knn: cuml vs sklearn indexes %s\" % (\"equal\" if passed else \"NOT equal\")\n",
    "print(message)"
   ]
  }
 ],
 "metadata": {
  "kernelspec": {
   "display_name": "Python 3",
   "language": "python",
   "name": "python3"
  },
  "language_info": {
   "codemirror_mode": {
    "name": "ipython",
    "version": 3
   },
   "file_extension": ".py",
   "mimetype": "text/x-python",
   "name": "python",
   "nbconvert_exporter": "python",
   "pygments_lexer": "ipython3",
   "version": "3.5.5"
  }
 },
 "nbformat": 4,
 "nbformat_minor": 2
}
