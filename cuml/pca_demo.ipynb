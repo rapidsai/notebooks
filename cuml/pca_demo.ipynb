{
 "cells": [
  {
   "cell_type": "code",
   "execution_count": null,
   "metadata": {},
   "outputs": [],
   "source": [
    "import gzip\n",
    "import os\n",
    "\n",
    "import cudf\n",
    "from cuml import PCA as cumlPCA\n",
    "import numpy as np\n",
    "import pandas as pd\n",
    "from sklearn.decomposition import PCA as skPCA\n",
    "from sklearn.metrics import mean_squared_error"
   ]
  },
  {
   "cell_type": "markdown",
   "metadata": {},
   "source": [
    "# Helper Functions"
   ]
  },
  {
   "cell_type": "code",
   "execution_count": null,
   "metadata": {},
   "outputs": [],
   "source": [
    "def load_data(nrows, ncols, cached=\"data/mortgage.npy.gz\"):\n",
    "    \"\"\"Load mortgage dataset if available, otherwise use random data.\"\"\"\n",
    "    if os.path.exists(cached):\n",
    "        print(\"Using mortgage data.\")\n",
    "        with gzip.open(cached) as f:\n",
    "            X = np.load(f)\n",
    "        X = X[np.random.randint(0, X.shape[0] - 1, nrows), :ncols]\n",
    "    else:\n",
    "        print(\"Using random data.\")\n",
    "        X = np.random.rand(nrows, ncols)\n",
    "    df = pd.DataFrame({\"fea%d\" % i: X[:, i] for i in range(X.shape[1])})\n",
    "    return df"
   ]
  },
  {
   "cell_type": "code",
   "execution_count": null,
   "metadata": {},
   "outputs": [],
   "source": [
    "def array_equal(a, b, threshold=2e-3, with_sign=True):\n",
    "    \"\"\"Check the equality of two arrays with a given threshold.\"\"\"\n",
    "    a = to_nparray(a)\n",
    "    b = to_nparray(b)\n",
    "    if not with_sign:\n",
    "        a, b = np.abs(a), np.abs(b)\n",
    "    error = mean_squared_error(a, b)\n",
    "    res = error < threshold\n",
    "    return res\n",
    "\n",
    "def to_nparray(x):\n",
    "    \"\"\"Convert a given array into a numpy array.\"\"\"\n",
    "    if isinstance(x, np.ndarray) or isinstance(x, pd.DataFrame):\n",
    "        return np.array(x)\n",
    "    elif isinstance(x, np.float64):\n",
    "        return np.array([x])\n",
    "    elif isinstance(x, cudf.DataFrame) or isinstance(x, cudf.Series):\n",
    "        return x.to_pandas().values\n",
    "    return x   "
   ]
  },
  {
   "cell_type": "markdown",
   "metadata": {},
   "source": [
    "# Run tests"
   ]
  },
  {
   "cell_type": "code",
   "execution_count": null,
   "metadata": {},
   "outputs": [],
   "source": [
    "%%time\n",
    "nrows = 2**20\n",
    "ncols = 400\n",
    "\n",
    "X = load_data(nrows, ncols)\n",
    "print(\"Data shape:\", X.shape)"
   ]
  },
  {
   "cell_type": "code",
   "execution_count": null,
   "metadata": {},
   "outputs": [],
   "source": [
    "n_components = 10\n",
    "whiten = False\n",
    "random_state = 42\n",
    "svd_solver = \"full\""
   ]
  },
  {
   "cell_type": "code",
   "execution_count": null,
   "metadata": {},
   "outputs": [],
   "source": [
    "%%time\n",
    "pca_sk = skPCA(n_components=n_components, svd_solver=svd_solver, \n",
    "               whiten=whiten, random_state=random_state)\n",
    "result_sk = pca_sk.fit_transform(X)"
   ]
  },
  {
   "cell_type": "code",
   "execution_count": null,
   "metadata": {},
   "outputs": [],
   "source": [
    "%%time\n",
    "X = cudf.DataFrame.from_pandas(X)"
   ]
  },
  {
   "cell_type": "code",
   "execution_count": null,
   "metadata": {},
   "outputs": [],
   "source": [
    "%%time\n",
    "pca_cuml = cumlPCA(n_components=n_components, svd_solver=svd_solver, \n",
    "                   whiten=whiten, random_state=random_state)\n",
    "result_cuml = pca_cuml.fit_transform(X)"
   ]
  },
  {
   "cell_type": "code",
   "execution_count": null,
   "metadata": {},
   "outputs": [],
   "source": [
    "for attr in [\"singular_values_\", \"components_\", \"explained_variance_\",\n",
    "             \"explained_variance_ratio_\"]:\n",
    "    passed = array_equal(getattr(pca_sk, attr), getattr(pca_cuml, attr))\n",
    "    message = \"compare pca: cuml vs sklearn {} {}\".format(\n",
    "        attr,\n",
    "        \"equal\" if passed else \"NOT equal\"\n",
    "    )\n",
    "    print(message)"
   ]
  },
  {
   "cell_type": "code",
   "execution_count": null,
   "metadata": {},
   "outputs": [],
   "source": [
    "passed = array_equal(result_sk, result_cuml)\n",
    "message = \"compare pca: cuml vs sklearn transformed results %s\" % \\\n",
    "    (\"equal\" if passed else \"NOT equal\")\n",
    "print(message)"
   ]
  }
 ],
 "metadata": {
  "kernelspec": {
   "display_name": "Python 3",
   "language": "python",
   "name": "python3"
  },
  "language_info": {
   "codemirror_mode": {
    "name": "ipython",
    "version": 3
   },
   "file_extension": ".py",
   "mimetype": "text/x-python",
   "name": "python",
   "nbconvert_exporter": "python",
   "pygments_lexer": "ipython3",
   "version": "3.5.5"
  }
 },
 "nbformat": 4,
 "nbformat_minor": 2
}
