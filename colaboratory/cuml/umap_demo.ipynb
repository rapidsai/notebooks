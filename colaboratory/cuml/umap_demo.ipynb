{
  "nbformat": 4,
  "nbformat_minor": 0,
  "metadata": {
    "colab": {
      "name": "umap_demo.ipynb",
      "version": "0.3.2",
      "provenance": [],
      "include_colab_link": true
    },
    "language_info": {
      "codemirror_mode": {
        "name": "ipython",
        "version": 3
      },
      "file_extension": ".py",
      "mimetype": "text/x-python",
      "name": "python",
      "nbconvert_exporter": "python",
      "pygments_lexer": "ipython3",
      "version": "3.7.3"
    },
    "kernelspec": {
      "name": "python3",
      "display_name": "Python 3"
    },
    "accelerator": "GPU"
  },
  "cells": [
    {
      "cell_type": "markdown",
      "metadata": {
        "id": "view-in-github",
        "colab_type": "text"
      },
      "source": [
        "<a href=\"https://colab.research.google.com/github/Raziel619/notebooks/blob/branch-0.8/colaboratory/cuml/umap_demo.ipynb\" target=\"_parent\"><img src=\"https://colab.research.google.com/assets/colab-badge.svg\" alt=\"Open In Colab\"/></a>"
      ]
    },
    {
      "cell_type": "markdown",
      "metadata": {
        "id": "MIpHYhJP7sGy",
        "colab_type": "text"
      },
      "source": [
        "# Uniform Manifold Approximation and Projection (UMAP)\n",
        "UMAP is a dimensionality reduction algorithm which performs non-linear dimension reduction. It can also be used for visualization of the dataset. The UMAP model implemented in cuml allows the user to set the following parameter values:\n",
        "1.\tn_neighbors: number of neighboring samples used for manifold approximation. Larger values result in more global views of the manifold, while smaller values result in more local data being preserved (default = 15)\n",
        "2.\tn_components: the dimension of the space to embed into (default = 2)\n",
        "3.\tn_epochs: number of training epochs to be used in optimizing the low dimensional embedding (default = None)\n",
        "4.\tlearning_rate: initial learning rate for the embedding optimization (default = 1.0)\n",
        "5.\tinit: the low dimensional embedding to use: a. 'spectral': use a spectral embedding of the fuzzy 1-skeleton b. 'random': assign initial embedding positions at random (default = 'spectral')\n",
        "6.\tmin_dist: the minimum distance that should be present between embedded points (default = 0.1)\n",
        "7.\tspread: determines how clustered the embedded points will be (default = 1.0)\n",
        "8.\tset_op_mix_ratio: is the ratio of pure fuzzy union to intersection. If the value is 1.0 then it will be a pure fuzzy union and for the value of 0.0 it will be a pure fuzzy interpolation (default = 1.0)\n",
        "9.\tlocal_connectivity: number of nearest neighbors that should be assumed to be connected at a local level. It should be not more than the local intrinsic dimension of the manifold (default = 1)\n",
        "10.\trepulsion_strength: weighting applied to negative samples in low dimensional embedding optimization. Values > 1 implements a higher negative value to the samples (default = 1.0)\n",
        "11.\tnegative_sample_rate: the rate at which the negative samples should be selected per positive sample during the optimization process (default = 5)\n",
        "12.\ttransform_queue_size: embedding new points using a trained model_ will control how aggressively to search for nearest neighbors (default = 4.0)\n",
        "13.\tverbose: bool (default False)\n",
        "\n",
        "The cuml implemetation of the UMAP model has the following functions that one can run:\n",
        "1.\tfit: it fits the dataset into an embedded space\n",
        "2.\tfit_transform: it fits the dataset into an embedded space and returns the transformed output\n",
        "3.\ttransform: it transforms the dataset into an existing embedded space and returns the low dimensional output\n",
        "\n",
        "The model accepts only numpy arrays or cudf dataframes as the input. In order to convert your dataset to cudf format please read the cudf documentation on https://rapidsai.github.io/projects/cudf/en/latest/. For additional information on the UMAP model please refer to the documentation on https://rapidsai.github.io/projects/cuml/en/0.6.0/api.html#cuml.UMAP"
      ]
    },
    {
      "cell_type": "code",
      "metadata": {
        "id": "R3dg3H12-WMz",
        "colab_type": "code",
        "colab": {
          "base_uri": "https://localhost:8080/",
          "height": 2705
        },
        "outputId": "adb6d458-4ca2-4a48-d706-5b91e955ee4b"
      },
      "source": [
        "# intall miniconda\n",
        "# ensure Runtime is set to GPU, reset all runtimes if an error occurs\n",
        "!wget -c https://repo.continuum.io/miniconda/Miniconda3-4.5.4-Linux-x86_64.sh\n",
        "!chmod +x Miniconda3-4.5.4-Linux-x86_64.sh\n",
        "!bash ./Miniconda3-4.5.4-Linux-x86_64.sh -b -f -p /usr/local\n",
        "\n",
        "# install RAPIDS packages\n",
        "!conda install -q -y --prefix /usr/local -c conda-forge \\\n",
        "  -c rapidsai-nightly/label/cuda10.0 -c nvidia/label/cuda10.0 \\\n",
        "  cudf cuml\n",
        "\n",
        "# set environment vars\n",
        "import sys, os, shutil\n",
        "sys.path.append('/usr/local/lib/python3.6/site-packages/')\n",
        "os.environ['NUMBAPRO_NVVM'] = '/usr/local/cuda/nvvm/lib64/libnvvm.so'\n",
        "os.environ['NUMBAPRO_LIBDEVICE'] = '/usr/local/cuda/nvvm/libdevice/'\n",
        "\n",
        "# copy .so files to current working dir\n",
        "for fn in ['libcudf.so', 'librmm.so']:\n",
        "  shutil.copy('/usr/local/lib/'+fn, os.getcwd())"
      ],
      "execution_count": 1,
      "outputs": [
        {
          "output_type": "stream",
          "text": [
            "--2019-06-05 18:49:52--  https://repo.continuum.io/miniconda/Miniconda3-4.5.4-Linux-x86_64.sh\n",
            "Resolving repo.continuum.io (repo.continuum.io)... 104.18.200.79, 104.18.201.79, 2606:4700::6812:c94f, ...\n",
            "Connecting to repo.continuum.io (repo.continuum.io)|104.18.200.79|:443... connected.\n",
            "HTTP request sent, awaiting response... 200 OK\n",
            "Length: 58468498 (56M) [application/x-sh]\n",
            "Saving to: ‘Miniconda3-4.5.4-Linux-x86_64.sh’\n",
            "\n",
            "\r          Miniconda   0%[                    ]       0  --.-KB/s               \r         Miniconda3  39%[======>             ]  22.14M   111MB/s               \r        Miniconda3-  84%[===============>    ]  47.26M   117MB/s               \rMiniconda3-4.5.4-Li 100%[===================>]  55.76M   118MB/s    in 0.5s    \n",
            "\n",
            "2019-06-05 18:49:53 (118 MB/s) - ‘Miniconda3-4.5.4-Linux-x86_64.sh’ saved [58468498/58468498]\n",
            "\n",
            "PREFIX=/usr/local\n",
            "installing: python-3.6.5-hc3d631a_2 ...\n",
            "Python 3.6.5 :: Anaconda, Inc.\n",
            "installing: ca-certificates-2018.03.07-0 ...\n",
            "installing: conda-env-2.6.0-h36134e3_1 ...\n",
            "installing: libgcc-ng-7.2.0-hdf63c60_3 ...\n",
            "installing: libstdcxx-ng-7.2.0-hdf63c60_3 ...\n",
            "installing: libffi-3.2.1-hd88cf55_4 ...\n",
            "installing: ncurses-6.1-hf484d3e_0 ...\n",
            "installing: openssl-1.0.2o-h20670df_0 ...\n",
            "installing: tk-8.6.7-hc745277_3 ...\n",
            "installing: xz-5.2.4-h14c3975_4 ...\n",
            "installing: yaml-0.1.7-had09818_2 ...\n",
            "installing: zlib-1.2.11-ha838bed_2 ...\n",
            "installing: libedit-3.1.20170329-h6b74fdf_2 ...\n",
            "installing: readline-7.0-ha6073c6_4 ...\n",
            "installing: sqlite-3.23.1-he433501_0 ...\n",
            "installing: asn1crypto-0.24.0-py36_0 ...\n",
            "installing: certifi-2018.4.16-py36_0 ...\n",
            "installing: chardet-3.0.4-py36h0f667ec_1 ...\n",
            "installing: idna-2.6-py36h82fb2a8_1 ...\n",
            "installing: pycosat-0.6.3-py36h0a5515d_0 ...\n",
            "installing: pycparser-2.18-py36hf9f622e_1 ...\n",
            "installing: pysocks-1.6.8-py36_0 ...\n",
            "installing: ruamel_yaml-0.15.37-py36h14c3975_2 ...\n",
            "installing: six-1.11.0-py36h372c433_1 ...\n",
            "installing: cffi-1.11.5-py36h9745a5d_0 ...\n",
            "installing: setuptools-39.2.0-py36_0 ...\n",
            "installing: cryptography-2.2.2-py36h14c3975_0 ...\n",
            "installing: wheel-0.31.1-py36_0 ...\n",
            "installing: pip-10.0.1-py36_0 ...\n",
            "installing: pyopenssl-18.0.0-py36_0 ...\n",
            "installing: urllib3-1.22-py36hbe7ace6_0 ...\n",
            "installing: requests-2.18.4-py36he2e5f8d_1 ...\n",
            "installing: conda-4.5.4-py36_0 ...\n",
            "installation finished.\n",
            "WARNING:\n",
            "    You currently have a PYTHONPATH environment variable set. This may cause\n",
            "    unexpected behavior when running the Python interpreter in Miniconda3.\n",
            "    For best results, please verify that your PYTHONPATH only points to\n",
            "    directories of packages that are compatible with the Python interpreter\n",
            "    in Miniconda3: /usr/local\n",
            "Solving environment: ...working... done\n",
            "\n",
            "## Package Plan ##\n",
            "\n",
            "  environment location: /usr/local\n",
            "\n",
            "  added / updated specs: \n",
            "    - cudf\n",
            "    - cuml\n",
            "\n",
            "\n",
            "The following packages will be downloaded:\n",
            "\n",
            "    package                    |            build\n",
            "    ---------------------------|-----------------\n",
            "    certifi-2019.3.9           |           py36_0         149 KB  conda-forge\n",
            "    libcuml-0.8.0a             |    cuda10.0_1061        23.9 MB  rapidsai-nightly/label/cuda10.0\n",
            "    openssl-1.1.1b             |       h14c3975_1         4.0 MB  conda-forge\n",
            "    cuml-0.8.0a                |cuda10.0_py36_1061         3.5 MB  rapidsai-nightly/label/cuda10.0\n",
            "    openblas-0.3.5             |       ha44fe06_0        13.7 MB  conda-forge\n",
            "    rmm-0.8.0a                 |          py36_36          14 KB  rapidsai-nightly/label/cuda10.0\n",
            "    pandas-0.24.2              |   py36hb3f55d8_0        11.1 MB  conda-forge\n",
            "    libcumlmg-0.0.0.dev0       |     cuda10.0_373         955 KB  nvidia/label/cuda10.0\n",
            "    cudf-0.8.0a1               |         py36_484         2.9 MB  rapidsai-nightly/label/cuda10.0\n",
            "    icu-58.2                   |    hf484d3e_1000        22.6 MB  conda-forge\n",
            "    libblas-3.8.0              |       7_openblas           6 KB  conda-forge\n",
            "    cython-0.29.10             |   py36he1b5a44_0         2.2 MB  conda-forge\n",
            "    librmm-0.8.0a              |      cuda10.0_36          39 KB  rapidsai-nightly/label/cuda10.0\n",
            "    bzip2-1.0.6                |    h14c3975_1002         415 KB  conda-forge\n",
            "    nvstrings-0.8.0a           |          py36_73          90 KB  rapidsai-nightly/label/cuda10.0\n",
            "    python-3.6.7               |    h381d211_1004        34.5 MB  conda-forge\n",
            "    libstdcxx-ng-8.2.0         |       hdf63c60_1         2.9 MB\n",
            "    libgfortran-3.0.0          |                1         281 KB  conda-forge\n",
            "    ca-certificates-2019.3.9   |       hecc5488_0         146 KB  conda-forge\n",
            "    libgcc-ng-8.2.0            |       hdf63c60_1         7.6 MB\n",
            "    parquet-cpp-1.5.1          |                4           3 KB  conda-forge\n",
            "    libprotobuf-3.6.1          |    hdbcaa40_1001         4.0 MB  conda-forge\n",
            "    pyarrow-0.12.1             |   py36hbbcf98d_0         2.2 MB  conda-forge\n",
            "    boost-cpp-1.68.0           |    h11c811c_1000        20.5 MB  conda-forge\n",
            "    cudatoolkit-10.0.130       |                0       380.0 MB\n",
            "    conda-4.6.14               |           py36_0         2.1 MB  conda-forge\n",
            "    pytz-2019.1                |             py_0         227 KB  conda-forge\n",
            "    numpy-1.16.4               |   py36h95a1406_0         4.3 MB  conda-forge\n",
            "    python-dateutil-2.8.0      |             py_0         219 KB  conda-forge\n",
            "    arrow-cpp-0.12.1           |   py36h0e61e49_0         6.9 MB  conda-forge\n",
            "    tk-8.6.9                   |    hed695b0_1002         3.2 MB  conda-forge\n",
            "    sqlite-3.28.0              |       h8b20d00_0         1.9 MB  conda-forge\n",
            "    numba-0.43.1               |   py36hf2d7682_0         2.9 MB  conda-forge\n",
            "    cryptography-2.7           |   py36h72c5cf5_0         607 KB  conda-forge\n",
            "    libnvstrings-0.8.0a        |      cuda10.0_73         9.6 MB  rapidsai-nightly/label/cuda10.0\n",
            "    libcudf-0.8.0a1            |     cuda10.0_484        15.8 MB  rapidsai-nightly/label/cuda10.0\n",
            "    thrift-cpp-0.12.0          |    h0a07b25_1002         2.4 MB  conda-forge\n",
            "    libcblas-3.8.0             |       7_openblas           6 KB  conda-forge\n",
            "    liblapack-3.8.0            |       7_openblas           6 KB  conda-forge\n",
            "    llvmlite-0.28.0            |   py36hdbcaa40_0        20.2 MB  conda-forge\n",
            "    ------------------------------------------------------------\n",
            "                                           Total:       607.9 MB\n",
            "\n",
            "The following NEW packages will be INSTALLED:\n",
            "\n",
            "    arrow-cpp:       0.12.1-py36h0e61e49_0     conda-forge                    \n",
            "    boost-cpp:       1.68.0-h11c811c_1000      conda-forge                    \n",
            "    bzip2:           1.0.6-h14c3975_1002       conda-forge                    \n",
            "    cudatoolkit:     10.0.130-0                                               \n",
            "    cudf:            0.8.0a1-py36_484          rapidsai-nightly/label/cuda10.0\n",
            "    cuml:            0.8.0a-cuda10.0_py36_1061 rapidsai-nightly/label/cuda10.0\n",
            "    cython:          0.29.10-py36he1b5a44_0    conda-forge                    \n",
            "    icu:             58.2-hf484d3e_1000        conda-forge                    \n",
            "    libblas:         3.8.0-7_openblas          conda-forge                    \n",
            "    libcblas:        3.8.0-7_openblas          conda-forge                    \n",
            "    libcudf:         0.8.0a1-cuda10.0_484      rapidsai-nightly/label/cuda10.0\n",
            "    libcuml:         0.8.0a-cuda10.0_1061      rapidsai-nightly/label/cuda10.0\n",
            "    libcumlmg:       0.0.0.dev0-cuda10.0_373   nvidia/label/cuda10.0          \n",
            "    libgfortran:     3.0.0-1                   conda-forge                    \n",
            "    liblapack:       3.8.0-7_openblas          conda-forge                    \n",
            "    libnvstrings:    0.8.0a-cuda10.0_73        rapidsai-nightly/label/cuda10.0\n",
            "    libprotobuf:     3.6.1-hdbcaa40_1001       conda-forge                    \n",
            "    librmm:          0.8.0a-cuda10.0_36        rapidsai-nightly/label/cuda10.0\n",
            "    llvmlite:        0.28.0-py36hdbcaa40_0     conda-forge                    \n",
            "    numba:           0.43.1-py36hf2d7682_0     conda-forge                    \n",
            "    numpy:           1.16.4-py36h95a1406_0     conda-forge                    \n",
            "    nvstrings:       0.8.0a-py36_73            rapidsai-nightly/label/cuda10.0\n",
            "    openblas:        0.3.5-ha44fe06_0          conda-forge                    \n",
            "    pandas:          0.24.2-py36hb3f55d8_0     conda-forge                    \n",
            "    parquet-cpp:     1.5.1-4                   conda-forge                    \n",
            "    pyarrow:         0.12.1-py36hbbcf98d_0     conda-forge                    \n",
            "    python-dateutil: 2.8.0-py_0                conda-forge                    \n",
            "    pytz:            2019.1-py_0               conda-forge                    \n",
            "    rmm:             0.8.0a-py36_36            rapidsai-nightly/label/cuda10.0\n",
            "    thrift-cpp:      0.12.0-h0a07b25_1002      conda-forge                    \n",
            "\n",
            "The following packages will be UPDATED:\n",
            "\n",
            "    ca-certificates: 2018.03.07-0                                              --> 2019.3.9-hecc5488_0 conda-forge\n",
            "    certifi:         2018.4.16-py36_0                                          --> 2019.3.9-py36_0     conda-forge\n",
            "    conda:           4.5.4-py36_0                                              --> 4.6.14-py36_0       conda-forge\n",
            "    cryptography:    2.2.2-py36h14c3975_0                                      --> 2.7-py36h72c5cf5_0  conda-forge\n",
            "    libgcc-ng:       7.2.0-hdf63c60_3                                          --> 8.2.0-hdf63c60_1               \n",
            "    libstdcxx-ng:    7.2.0-hdf63c60_3                                          --> 8.2.0-hdf63c60_1               \n",
            "    openssl:         1.0.2o-h20670df_0                                         --> 1.1.1b-h14c3975_1   conda-forge\n",
            "    python:          3.6.5-hc3d631a_2                                          --> 3.6.7-h381d211_1004 conda-forge\n",
            "    sqlite:          3.23.1-he433501_0                                         --> 3.28.0-h8b20d00_0   conda-forge\n",
            "    tk:              8.6.7-hc745277_3                                          --> 8.6.9-hed695b0_1002 conda-forge\n",
            "\n",
            "Preparing transaction: ...working... done\n",
            "Verifying transaction: ...working... done\n",
            "Executing transaction: ...working... done\n"
          ],
          "name": "stdout"
        }
      ]
    },
    {
      "cell_type": "code",
      "metadata": {
        "id": "YUWGkOZZ7sG0",
        "colab_type": "code",
        "colab": {}
      },
      "source": [
        "import numpy as np\n",
        "import pandas as pd\n",
        "\n",
        "import cudf\n",
        "import os\n",
        "\n",
        "from sklearn import datasets\n",
        "from sklearn.metrics import adjusted_rand_score\n",
        "from sklearn.cluster import KMeans\n",
        "from sklearn.manifold.t_sne import trustworthiness\n",
        "\n",
        "from cuml.manifold.umap import UMAP"
      ],
      "execution_count": 0,
      "outputs": []
    },
    {
      "cell_type": "markdown",
      "metadata": {
        "id": "o9KocJ_n7sG4",
        "colab_type": "text"
      },
      "source": [
        "# Running cuml's UMAP model on blobs dataset"
      ]
    },
    {
      "cell_type": "code",
      "metadata": {
        "id": "Si3IagNP7sG6",
        "colab_type": "code",
        "colab": {}
      },
      "source": [
        "# create a blobs dataset with 500 samples and 10 features each\n",
        "data, labels = datasets.make_blobs(\n",
        "    n_samples=500, n_features=10, centers=5)"
      ],
      "execution_count": 0,
      "outputs": []
    },
    {
      "cell_type": "code",
      "metadata": {
        "id": "HWEATONo7sG-",
        "colab_type": "code",
        "colab": {}
      },
      "source": [
        "# using the cuml UMAP algorithm to reduce the features of the dataset and store\n",
        "embedding = UMAP().fit_transform(data)"
      ],
      "execution_count": 0,
      "outputs": []
    },
    {
      "cell_type": "code",
      "metadata": {
        "id": "auZRNg2W7sHD",
        "colab_type": "code",
        "colab": {
          "base_uri": "https://localhost:8080/",
          "height": 34
        },
        "outputId": "50b801a8-5c7f-4e75-f123-d7943cd3e8f2"
      },
      "source": [
        "# calculate the score of the results obtained using cuml's algorithm and sklearn kmeans\n",
        "score = adjusted_rand_score(labels,\n",
        "            KMeans(5).fit_predict(embedding))\n",
        "print(score) # should equal 1.0"
      ],
      "execution_count": 5,
      "outputs": [
        {
          "output_type": "stream",
          "text": [
            "1.0\n"
          ],
          "name": "stdout"
        }
      ]
    },
    {
      "cell_type": "markdown",
      "metadata": {
        "id": "EWRiph717sHJ",
        "colab_type": "text"
      },
      "source": [
        "# Running cuml's UMAP model on iris dataset"
      ]
    },
    {
      "cell_type": "code",
      "metadata": {
        "id": "OdCayMII7sHK",
        "colab_type": "code",
        "colab": {}
      },
      "source": [
        "# load the iris dataset from sklearn and extract the required information\n",
        "iris = datasets.load_iris()\n",
        "data = iris.data"
      ],
      "execution_count": 0,
      "outputs": []
    },
    {
      "cell_type": "code",
      "metadata": {
        "scrolled": true,
        "id": "bBU1Zcrb7sHP",
        "colab_type": "code",
        "colab": {}
      },
      "source": [
        "# define the cuml UMAP model and use fit_transform function to obtain the low dimensional output of the input dataset\n",
        "embedding = UMAP(\n",
        "    n_neighbors=10, min_dist=0.01,  init=\"random\"\n",
        ").fit_transform(data)"
      ],
      "execution_count": 0,
      "outputs": []
    },
    {
      "cell_type": "code",
      "metadata": {
        "id": "ZNWLwDm87sHS",
        "colab_type": "code",
        "colab": {
          "base_uri": "https://localhost:8080/",
          "height": 34
        },
        "outputId": "711a0879-7911-43a7-b8ff-893f14634b2d"
      },
      "source": [
        "# calculate the trust worthiness of the results obtaind from the cuml UMAP\n",
        "trust = trustworthiness(iris.data, embedding, 10)\n",
        "print(trust)"
      ],
      "execution_count": 8,
      "outputs": [
        {
          "output_type": "stream",
          "text": [
            "0.9710334572490706\n"
          ],
          "name": "stdout"
        }
      ]
    },
    {
      "cell_type": "code",
      "metadata": {
        "id": "Ify4jpTG7sHW",
        "colab_type": "code",
        "colab": {
          "base_uri": "https://localhost:8080/",
          "height": 1697
        },
        "outputId": "5f987b2a-089b-4b0d-a472-8fe120cdd5a1"
      },
      "source": [
        "# create a selection variable which will have 75% True and 25% False values. The size of the selection variable is 150\n",
        "iris_selection = np.random.choice(\n",
        "    [True, False], 150, replace=True, p=[0.75, 0.25])\n",
        "# create an iris dataset using the selection variable\n",
        "data = iris.data[iris_selection]\n",
        "print(data)"
      ],
      "execution_count": 9,
      "outputs": [
        {
          "output_type": "stream",
          "text": [
            "[[5.1 3.5 1.4 0.2]\n",
            " [4.9 3.  1.4 0.2]\n",
            " [4.7 3.2 1.3 0.2]\n",
            " [5.  3.6 1.4 0.2]\n",
            " [5.  3.4 1.5 0.2]\n",
            " [4.9 3.1 1.5 0.1]\n",
            " [4.8 3.4 1.6 0.2]\n",
            " [4.8 3.  1.4 0.1]\n",
            " [4.3 3.  1.1 0.1]\n",
            " [5.8 4.  1.2 0.2]\n",
            " [5.7 4.4 1.5 0.4]\n",
            " [5.1 3.5 1.4 0.3]\n",
            " [5.1 3.8 1.5 0.3]\n",
            " [5.4 3.4 1.7 0.2]\n",
            " [4.6 3.6 1.  0.2]\n",
            " [5.1 3.3 1.7 0.5]\n",
            " [5.2 3.5 1.5 0.2]\n",
            " [4.7 3.2 1.6 0.2]\n",
            " [5.4 3.4 1.5 0.4]\n",
            " [5.2 4.1 1.5 0.1]\n",
            " [5.5 4.2 1.4 0.2]\n",
            " [4.9 3.1 1.5 0.2]\n",
            " [5.  3.2 1.2 0.2]\n",
            " [5.5 3.5 1.3 0.2]\n",
            " [4.9 3.6 1.4 0.1]\n",
            " [4.4 3.  1.3 0.2]\n",
            " [5.  3.5 1.3 0.3]\n",
            " [4.4 3.2 1.3 0.2]\n",
            " [5.1 3.8 1.9 0.4]\n",
            " [4.8 3.  1.4 0.3]\n",
            " [5.1 3.8 1.6 0.2]\n",
            " [4.6 3.2 1.4 0.2]\n",
            " [5.3 3.7 1.5 0.2]\n",
            " [6.4 3.2 4.5 1.5]\n",
            " [6.9 3.1 4.9 1.5]\n",
            " [5.5 2.3 4.  1.3]\n",
            " [6.5 2.8 4.6 1.5]\n",
            " [5.7 2.8 4.5 1.3]\n",
            " [6.3 3.3 4.7 1.6]\n",
            " [4.9 2.4 3.3 1. ]\n",
            " [6.6 2.9 4.6 1.3]\n",
            " [5.2 2.7 3.9 1.4]\n",
            " [5.  2.  3.5 1. ]\n",
            " [5.9 3.  4.2 1.5]\n",
            " [6.1 2.9 4.7 1.4]\n",
            " [6.7 3.1 4.4 1.4]\n",
            " [5.6 3.  4.5 1.5]\n",
            " [5.8 2.7 4.1 1. ]\n",
            " [6.2 2.2 4.5 1.5]\n",
            " [5.6 2.5 3.9 1.1]\n",
            " [6.1 2.8 4.7 1.2]\n",
            " [6.4 2.9 4.3 1.3]\n",
            " [6.6 3.  4.4 1.4]\n",
            " [6.7 3.  5.  1.7]\n",
            " [6.  2.9 4.5 1.5]\n",
            " [5.7 2.6 3.5 1. ]\n",
            " [5.5 2.4 3.8 1.1]\n",
            " [5.4 3.  4.5 1.5]\n",
            " [6.  3.4 4.5 1.6]\n",
            " [5.8 2.6 4.  1.2]\n",
            " [5.  2.3 3.3 1. ]\n",
            " [5.6 2.7 4.2 1.3]\n",
            " [5.7 3.  4.2 1.2]\n",
            " [5.7 2.9 4.2 1.3]\n",
            " [5.8 2.7 5.1 1.9]\n",
            " [7.1 3.  5.9 2.1]\n",
            " [6.3 2.9 5.6 1.8]\n",
            " [6.5 3.  5.8 2.2]\n",
            " [7.6 3.  6.6 2.1]\n",
            " [7.2 3.6 6.1 2.5]\n",
            " [6.5 3.2 5.1 2. ]\n",
            " [6.4 2.7 5.3 1.9]\n",
            " [6.8 3.  5.5 2.1]\n",
            " [5.7 2.5 5.  2. ]\n",
            " [5.8 2.8 5.1 2.4]\n",
            " [7.7 3.8 6.7 2.2]\n",
            " [7.7 2.6 6.9 2.3]\n",
            " [6.  2.2 5.  1.5]\n",
            " [6.9 3.2 5.7 2.3]\n",
            " [5.6 2.8 4.9 2. ]\n",
            " [7.7 2.8 6.7 2. ]\n",
            " [6.3 2.7 4.9 1.8]\n",
            " [6.7 3.3 5.7 2.1]\n",
            " [6.2 2.8 4.8 1.8]\n",
            " [6.1 3.  4.9 1.8]\n",
            " [7.2 3.  5.8 1.6]\n",
            " [7.4 2.8 6.1 1.9]\n",
            " [7.9 3.8 6.4 2. ]\n",
            " [6.4 2.8 5.6 2.2]\n",
            " [6.3 2.8 5.1 1.5]\n",
            " [7.7 3.  6.1 2.3]\n",
            " [6.3 3.4 5.6 2.4]\n",
            " [6.4 3.1 5.5 1.8]\n",
            " [6.  3.  4.8 1.8]\n",
            " [6.9 3.1 5.1 2.3]\n",
            " [5.8 2.7 5.1 1.9]\n",
            " [6.8 3.2 5.9 2.3]\n",
            " [6.5 3.  5.2 2. ]\n",
            " [6.2 3.4 5.4 2.3]\n",
            " [5.9 3.  5.1 1.8]]\n"
          ],
          "name": "stdout"
        }
      ]
    },
    {
      "cell_type": "code",
      "metadata": {
        "id": "hcSaciYm7sHb",
        "colab_type": "code",
        "colab": {}
      },
      "source": [
        "# create a cuml UMAP model \n",
        "fitter = UMAP(n_neighbors=10, min_dist=0.01, verbose=False)\n",
        "# fit the data created the selection variable to the cuml UMAP model created (fitter)\n",
        "fitter.fit(data)\n",
        "# create a new iris dataset by inverting the values of the selection variable (ie. 75% False and 25% True values) \n",
        "new_data = iris.data[~iris_selection]\n",
        "# transform the new data using the previously created embedded space\n",
        "embedding = fitter.transform(new_data)"
      ],
      "execution_count": 0,
      "outputs": []
    },
    {
      "cell_type": "code",
      "metadata": {
        "id": "l8Xfz80-7sHg",
        "colab_type": "code",
        "colab": {
          "base_uri": "https://localhost:8080/",
          "height": 34
        },
        "outputId": "eb8ca3cf-cac2-4660-a677-d3a565c7e1d9"
      },
      "source": [
        "# calculate the trustworthiness score for the new data created (new_data)\n",
        "trust = trustworthiness(new_data, embedding, 10)\n",
        "print(trust)"
      ],
      "execution_count": 12,
      "outputs": [
        {
          "output_type": "stream",
          "text": [
            "0.9834202898550725\n"
          ],
          "name": "stdout"
        }
      ]
    },
    {
      "cell_type": "code",
      "metadata": {
        "id": "m16tMCe77sHp",
        "colab_type": "code",
        "colab": {}
      },
      "source": [
        ""
      ],
      "execution_count": 0,
      "outputs": []
    }
  ]
}