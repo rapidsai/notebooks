{
  "nbformat": 4,
  "nbformat_minor": 0,
  "metadata": {
    "colab": {
      "name": "sgd_demo.ipynb",
      "version": "0.3.2",
      "provenance": [],
      "include_colab_link": true
    },
    "language_info": {
      "codemirror_mode": {
        "name": "ipython",
        "version": 3
      },
      "file_extension": ".py",
      "mimetype": "text/x-python",
      "name": "python",
      "nbconvert_exporter": "python",
      "pygments_lexer": "ipython3",
      "version": "3.6.8"
    },
    "kernelspec": {
      "name": "python3",
      "display_name": "Python 3"
    },
    "accelerator": "GPU"
  },
  "cells": [
    {
      "cell_type": "markdown",
      "metadata": {
        "id": "view-in-github",
        "colab_type": "text"
      },
      "source": [
        "<a href=\"https://colab.research.google.com/github/Raziel619/notebooks/blob/branch-0.8/colaboratory/cuml/sgd_demo.ipynb\" target=\"_parent\"><img src=\"https://colab.research.google.com/assets/colab-badge.svg\" alt=\"Open In Colab\"/></a>"
      ]
    },
    {
      "cell_type": "markdown",
      "metadata": {
        "id": "hGL2yxA7Cw41",
        "colab_type": "text"
      },
      "source": [
        "# Stochastic gradient descent (SGD) \n",
        "SGD is an  incremental gradient descent algorithm which modifies its weights, in an effort to reach a local minimum. The cuML implementation takes only numpy arrays and cuDF datasets as inputs. In order to convert your dataset into a cuDF dataframe format please refer the documentation on https://rapidsai.github.io/projects/cudf/en/latest/. The SGD algorithm implemented in cuML can accept the following parameters:\n",
        "1. loss : 'hinge', 'log', 'squared_loss' (default = 'squared_loss')\n",
        "2. penalty: 'none', 'l1', 'l2', 'elasticnet' (default = 'none')\n",
        "3. alpha: float (default = 0.0001)\n",
        "4. fit_intercept : boolean (default = True)\n",
        "5. epochs : int (default = 1000)\n",
        "6. tol : float (default = 1e-3)\n",
        "7. shuffle : boolean (default = True)\n",
        "8. eta0 : float (default = 0.0)\n",
        "9. power_t : float (default = 0.5)\n",
        "10. learning_rate : 'optimal', 'constant', 'invscaling', 'adaptive' (default = 'constant')\n",
        "11. n_iter_no_change : int (default = 5)\n",
        "\n",
        "For additional information on the SGD model please refer to the documentation on https://rapidsai.github.io/projects/cuml/en/latest/index.html\n"
      ]
    },
    {
      "cell_type": "code",
      "metadata": {
        "id": "aVB1xbBuDBeY",
        "colab_type": "code",
        "colab": {
          "base_uri": "https://localhost:8080/",
          "height": 2737
        },
        "outputId": "a7274059-c8da-4222-e1f1-e20dccc8f754"
      },
      "source": [
        "#ensure that the runtime is set to GPU\n",
        "#use !nvidia-smi to make sure a Tesla T4 is being used \n",
        "# intall miniconda\n",
        "!wget -c https://repo.continuum.io/miniconda/Miniconda3-4.5.4-Linux-x86_64.sh\n",
        "!chmod +x Miniconda3-4.5.4-Linux-x86_64.sh\n",
        "!bash ./Miniconda3-4.5.4-Linux-x86_64.sh -b -f -p /usr/local\n",
        "\n",
        "# install RAPIDS packages\n",
        "!conda install -q -y --prefix /usr/local -c conda-forge \\\n",
        "  -c rapidsai-nightly/label/cuda10.0 -c nvidia/label/cuda10.0 \\\n",
        "  cudf cuml\n",
        "\n",
        "# set environment vars\n",
        "import sys, os, shutil\n",
        "sys.path.append('/usr/local/lib/python3.6/site-packages/')\n",
        "os.environ['NUMBAPRO_NVVM'] = '/usr/local/cuda/nvvm/lib64/libnvvm.so'\n",
        "os.environ['NUMBAPRO_LIBDEVICE'] = '/usr/local/cuda/nvvm/libdevice/'\n",
        "\n",
        "# copy .so files to current working dir\n",
        "for fn in ['libcudf.so', 'librmm.so']:\n",
        "  shutil.copy('/usr/local/lib/'+fn, os.getcwd())"
      ],
      "execution_count": 1,
      "outputs": [
        {
          "output_type": "stream",
          "text": [
            "--2019-06-04 19:52:10--  https://repo.continuum.io/miniconda/Miniconda3-4.5.4-Linux-x86_64.sh\n",
            "Resolving repo.continuum.io (repo.continuum.io)... 104.18.200.79, 104.18.201.79, 2606:4700::6812:c94f, ...\n",
            "Connecting to repo.continuum.io (repo.continuum.io)|104.18.200.79|:443... connected.\n",
            "HTTP request sent, awaiting response... 200 OK\n",
            "Length: 58468498 (56M) [application/x-sh]\n",
            "Saving to: ‘Miniconda3-4.5.4-Linux-x86_64.sh’\n",
            "\n",
            "\r          Miniconda   0%[                    ]       0  --.-KB/s               \r         Miniconda3  46%[========>           ]  26.04M   130MB/s               \rMiniconda3-4.5.4-Li 100%[===================>]  55.76M   148MB/s    in 0.4s    \n",
            "\n",
            "2019-06-04 19:52:11 (148 MB/s) - ‘Miniconda3-4.5.4-Linux-x86_64.sh’ saved [58468498/58468498]\n",
            "\n",
            "PREFIX=/usr/local\n",
            "installing: python-3.6.5-hc3d631a_2 ...\n",
            "Python 3.6.5 :: Anaconda, Inc.\n",
            "installing: ca-certificates-2018.03.07-0 ...\n",
            "installing: conda-env-2.6.0-h36134e3_1 ...\n",
            "installing: libgcc-ng-7.2.0-hdf63c60_3 ...\n",
            "installing: libstdcxx-ng-7.2.0-hdf63c60_3 ...\n",
            "installing: libffi-3.2.1-hd88cf55_4 ...\n",
            "installing: ncurses-6.1-hf484d3e_0 ...\n",
            "installing: openssl-1.0.2o-h20670df_0 ...\n",
            "installing: tk-8.6.7-hc745277_3 ...\n",
            "installing: xz-5.2.4-h14c3975_4 ...\n",
            "installing: yaml-0.1.7-had09818_2 ...\n",
            "installing: zlib-1.2.11-ha838bed_2 ...\n",
            "installing: libedit-3.1.20170329-h6b74fdf_2 ...\n",
            "installing: readline-7.0-ha6073c6_4 ...\n",
            "installing: sqlite-3.23.1-he433501_0 ...\n",
            "installing: asn1crypto-0.24.0-py36_0 ...\n",
            "installing: certifi-2018.4.16-py36_0 ...\n",
            "installing: chardet-3.0.4-py36h0f667ec_1 ...\n",
            "installing: idna-2.6-py36h82fb2a8_1 ...\n",
            "installing: pycosat-0.6.3-py36h0a5515d_0 ...\n",
            "installing: pycparser-2.18-py36hf9f622e_1 ...\n",
            "installing: pysocks-1.6.8-py36_0 ...\n",
            "installing: ruamel_yaml-0.15.37-py36h14c3975_2 ...\n",
            "installing: six-1.11.0-py36h372c433_1 ...\n",
            "installing: cffi-1.11.5-py36h9745a5d_0 ...\n",
            "installing: setuptools-39.2.0-py36_0 ...\n",
            "installing: cryptography-2.2.2-py36h14c3975_0 ...\n",
            "installing: wheel-0.31.1-py36_0 ...\n",
            "installing: pip-10.0.1-py36_0 ...\n",
            "installing: pyopenssl-18.0.0-py36_0 ...\n",
            "installing: urllib3-1.22-py36hbe7ace6_0 ...\n",
            "installing: requests-2.18.4-py36he2e5f8d_1 ...\n",
            "installing: conda-4.5.4-py36_0 ...\n",
            "installation finished.\n",
            "WARNING:\n",
            "    You currently have a PYTHONPATH environment variable set. This may cause\n",
            "    unexpected behavior when running the Python interpreter in Miniconda3.\n",
            "    For best results, please verify that your PYTHONPATH only points to\n",
            "    directories of packages that are compatible with the Python interpreter\n",
            "    in Miniconda3: /usr/local\n",
            "Solving environment: ...working... done\n",
            "\n",
            "## Package Plan ##\n",
            "\n",
            "  environment location: /usr/local\n",
            "\n",
            "  added / updated specs: \n",
            "    - cudf\n",
            "    - cuml\n",
            "\n",
            "\n",
            "The following packages will be downloaded:\n",
            "\n",
            "    package                    |            build\n",
            "    ---------------------------|-----------------\n",
            "    pandas-0.24.2              |   py36hb3f55d8_0        11.1 MB  conda-forge\n",
            "    cython-0.29.10             |   py36he1b5a44_0         2.2 MB  conda-forge\n",
            "    libgfortran-3.0.0          |                1         281 KB  conda-forge\n",
            "    libblas-3.8.0              |       7_openblas           6 KB  conda-forge\n",
            "    boost-cpp-1.68.0           |    h11c811c_1000        20.5 MB  conda-forge\n",
            "    arrow-cpp-0.12.1           |   py36h0e61e49_0         6.9 MB  conda-forge\n",
            "    cryptography-2.7           |   py36h72c5cf5_0         607 KB  conda-forge\n",
            "    python-dateutil-2.8.0      |             py_0         219 KB  conda-forge\n",
            "    libcuml-0.8.0a             |    cuda10.0_1022        23.9 MB  rapidsai-nightly/label/cuda10.0\n",
            "    cuml-0.8.0a                |cuda10.0_py36_1022         3.5 MB  rapidsai-nightly/label/cuda10.0\n",
            "    libcumlmg-0.0.0.dev0       |     cuda10.0_373         955 KB  nvidia/label/cuda10.0\n",
            "    llvmlite-0.28.0            |   py36hdbcaa40_0        20.2 MB  conda-forge\n",
            "    libstdcxx-ng-8.2.0         |       hdf63c60_1         2.9 MB\n",
            "    numba-0.43.1               |   py36hf2d7682_0         2.9 MB  conda-forge\n",
            "    bzip2-1.0.6                |    h14c3975_1002         415 KB  conda-forge\n",
            "    icu-58.2                   |    hf484d3e_1000        22.6 MB  conda-forge\n",
            "    librmm-0.8.0a              |      cuda10.0_36          39 KB  rapidsai-nightly/label/cuda10.0\n",
            "    thrift-cpp-0.12.0          |    h0a07b25_1002         2.4 MB  conda-forge\n",
            "    sqlite-3.28.0              |       h8b20d00_0         1.9 MB  conda-forge\n",
            "    nvstrings-0.8.0a           |          py36_73          90 KB  rapidsai-nightly/label/cuda10.0\n",
            "    libgcc-ng-8.2.0            |       hdf63c60_1         7.6 MB\n",
            "    rmm-0.8.0a                 |          py36_36          14 KB  rapidsai-nightly/label/cuda10.0\n",
            "    openblas-0.3.5             |       ha44fe06_0        13.7 MB  conda-forge\n",
            "    pytz-2019.1                |             py_0         227 KB  conda-forge\n",
            "    liblapack-3.8.0            |       7_openblas           6 KB  conda-forge\n",
            "    tk-8.6.9                   |    hed695b0_1002         3.2 MB  conda-forge\n",
            "    libnvstrings-0.8.0a        |      cuda10.0_73         9.5 MB  rapidsai-nightly/label/cuda10.0\n",
            "    certifi-2019.3.9           |           py36_0         149 KB  conda-forge\n",
            "    pyarrow-0.12.1             |   py36hbbcf98d_0         2.2 MB  conda-forge\n",
            "    cudf-0.8.0a1               |         py36_413         2.8 MB  rapidsai-nightly/label/cuda10.0\n",
            "    libcblas-3.8.0             |       7_openblas           6 KB  conda-forge\n",
            "    python-3.6.7               |    h381d211_1004        34.5 MB  conda-forge\n",
            "    libcudf-0.8.0a1            |     cuda10.0_413        15.7 MB  rapidsai-nightly/label/cuda10.0\n",
            "    conda-4.6.14               |           py36_0         2.1 MB  conda-forge\n",
            "    numpy-1.16.4               |   py36h95a1406_0         4.3 MB  conda-forge\n",
            "    libprotobuf-3.6.1          |    hdbcaa40_1001         4.0 MB  conda-forge\n",
            "    ca-certificates-2019.3.9   |       hecc5488_0         146 KB  conda-forge\n",
            "    parquet-cpp-1.5.1          |                4           3 KB  conda-forge\n",
            "    cudatoolkit-10.0.130       |                0       380.0 MB\n",
            "    openssl-1.1.1b             |       h14c3975_1         4.0 MB  conda-forge\n",
            "    ------------------------------------------------------------\n",
            "                                           Total:       607.7 MB\n",
            "\n",
            "The following NEW packages will be INSTALLED:\n",
            "\n",
            "    arrow-cpp:       0.12.1-py36h0e61e49_0     conda-forge                    \n",
            "    boost-cpp:       1.68.0-h11c811c_1000      conda-forge                    \n",
            "    bzip2:           1.0.6-h14c3975_1002       conda-forge                    \n",
            "    cudatoolkit:     10.0.130-0                                               \n",
            "    cudf:            0.8.0a1-py36_413          rapidsai-nightly/label/cuda10.0\n",
            "    cuml:            0.8.0a-cuda10.0_py36_1022 rapidsai-nightly/label/cuda10.0\n",
            "    cython:          0.29.10-py36he1b5a44_0    conda-forge                    \n",
            "    icu:             58.2-hf484d3e_1000        conda-forge                    \n",
            "    libblas:         3.8.0-7_openblas          conda-forge                    \n",
            "    libcblas:        3.8.0-7_openblas          conda-forge                    \n",
            "    libcudf:         0.8.0a1-cuda10.0_413      rapidsai-nightly/label/cuda10.0\n",
            "    libcuml:         0.8.0a-cuda10.0_1022      rapidsai-nightly/label/cuda10.0\n",
            "    libcumlmg:       0.0.0.dev0-cuda10.0_373   nvidia/label/cuda10.0          \n",
            "    libgfortran:     3.0.0-1                   conda-forge                    \n",
            "    liblapack:       3.8.0-7_openblas          conda-forge                    \n",
            "    libnvstrings:    0.8.0a-cuda10.0_73        rapidsai-nightly/label/cuda10.0\n",
            "    libprotobuf:     3.6.1-hdbcaa40_1001       conda-forge                    \n",
            "    librmm:          0.8.0a-cuda10.0_36        rapidsai-nightly/label/cuda10.0\n",
            "    llvmlite:        0.28.0-py36hdbcaa40_0     conda-forge                    \n",
            "    numba:           0.43.1-py36hf2d7682_0     conda-forge                    \n",
            "    numpy:           1.16.4-py36h95a1406_0     conda-forge                    \n",
            "    nvstrings:       0.8.0a-py36_73            rapidsai-nightly/label/cuda10.0\n",
            "    openblas:        0.3.5-ha44fe06_0          conda-forge                    \n",
            "    pandas:          0.24.2-py36hb3f55d8_0     conda-forge                    \n",
            "    parquet-cpp:     1.5.1-4                   conda-forge                    \n",
            "    pyarrow:         0.12.1-py36hbbcf98d_0     conda-forge                    \n",
            "    python-dateutil: 2.8.0-py_0                conda-forge                    \n",
            "    pytz:            2019.1-py_0               conda-forge                    \n",
            "    rmm:             0.8.0a-py36_36            rapidsai-nightly/label/cuda10.0\n",
            "    thrift-cpp:      0.12.0-h0a07b25_1002      conda-forge                    \n",
            "\n",
            "The following packages will be UPDATED:\n",
            "\n",
            "    ca-certificates: 2018.03.07-0                                              --> 2019.3.9-hecc5488_0 conda-forge\n",
            "    certifi:         2018.4.16-py36_0                                          --> 2019.3.9-py36_0     conda-forge\n",
            "    conda:           4.5.4-py36_0                                              --> 4.6.14-py36_0       conda-forge\n",
            "    cryptography:    2.2.2-py36h14c3975_0                                      --> 2.7-py36h72c5cf5_0  conda-forge\n",
            "    libgcc-ng:       7.2.0-hdf63c60_3                                          --> 8.2.0-hdf63c60_1               \n",
            "    libstdcxx-ng:    7.2.0-hdf63c60_3                                          --> 8.2.0-hdf63c60_1               \n",
            "    openssl:         1.0.2o-h20670df_0                                         --> 1.1.1b-h14c3975_1   conda-forge\n",
            "    python:          3.6.5-hc3d631a_2                                          --> 3.6.7-h381d211_1004 conda-forge\n",
            "    sqlite:          3.23.1-he433501_0                                         --> 3.28.0-h8b20d00_0   conda-forge\n",
            "    tk:              8.6.7-hc745277_3                                          --> 8.6.9-hed695b0_1002 conda-forge\n",
            "\n",
            "Preparing transaction: ...working... done\n",
            "Verifying transaction: ...working... done\n",
            "Executing transaction: ...working... done\n"
          ],
          "name": "stdout"
        }
      ]
    },
    {
      "cell_type": "code",
      "metadata": {
        "id": "7wrS9WpmCw42",
        "colab_type": "code",
        "colab": {}
      },
      "source": [
        "import numpy as np\n",
        "import pandas as pd\n",
        "import cudf\n",
        "import os\n",
        "from cuml.solvers import SGD as cumlSGD\n",
        "from sklearn.linear_model import SGDRegressor\n",
        "# Select a particular GPU to run the notebook  \n",
        "os.environ[\"CUDA_VISIBLE_DEVICES\"]=\"1\""
      ],
      "execution_count": 0,
      "outputs": []
    },
    {
      "cell_type": "markdown",
      "metadata": {
        "id": "SHiYHcOmCw46",
        "colab_type": "text"
      },
      "source": [
        "# Helper Functions"
      ]
    },
    {
      "cell_type": "code",
      "metadata": {
        "id": "zNUHUf93Cw47",
        "colab_type": "code",
        "colab": {}
      },
      "source": [
        "# check if the mortgage dataset is present and then extract the data from it, else just create a random dataset for sgd \n",
        "import gzip\n",
        "# change the path of the mortgage dataset if you have saved it in a different directory\n",
        "def load_data(nrows, ncols, cached = 'data/mortgage.npy.gz'):\n",
        "    if os.path.exists(cached):\n",
        "        print('use mortgage data')\n",
        "\n",
        "        with gzip.open(cached) as f:\n",
        "            X = np.load(f)\n",
        "        # the 4th column is 'adj_remaining_months_to_maturity'\n",
        "        # used as the label\n",
        "        X = X[:,[i for i in range(X.shape[1]) if i!=4]]\n",
        "        y = X[:,4:5]\n",
        "        rindices = np.random.randint(0,X.shape[0]-1,nrows)\n",
        "        X = X[rindices,:ncols]\n",
        "        y = y[rindices]\n",
        "\n",
        "    else:\n",
        "        # create a random dataset\n",
        "        print('use random data')\n",
        "        X = np.random.rand(nrows,ncols)\n",
        "        y = np.random.randint(0,10,size=(nrows,1))\n",
        "    train_rows = int(nrows*0.8)\n",
        "    df_X_train = pd.DataFrame({'fea%d'%i:X[0:train_rows,i] for i in range(X.shape[1])})\n",
        "    df_X_test = pd.DataFrame({'fea%d'%i:X[train_rows:,i] for i in range(X.shape[1])})\n",
        "    df_y_train = pd.DataFrame({'fea%d'%i:y[0:train_rows,i] for i in range(y.shape[1])})\n",
        "    df_y_test = pd.DataFrame({'fea%d'%i:y[train_rows:,i] for i in range(y.shape[1])})\n",
        "    return df_X_train, df_X_test, df_y_train, df_y_test\n"
      ],
      "execution_count": 0,
      "outputs": []
    },
    {
      "cell_type": "code",
      "metadata": {
        "id": "lmIpjEzBCw49",
        "colab_type": "code",
        "colab": {}
      },
      "source": [
        "# this function checks if the results obtained from two different methods (sklearn and cuml) are the same\n",
        "from sklearn.metrics import mean_squared_error\n",
        "def array_equal(a,b,threshold=2e-3,with_sign=True):\n",
        "    a = to_nparray(a).ravel()\n",
        "    b = to_nparray(b).ravel()\n",
        "    if with_sign == False:\n",
        "        a,b = np.abs(a),np.abs(b)\n",
        "    error = mean_squared_error(a,b)\n",
        "    res = error<threshold\n",
        "    return res\n",
        "\n",
        "# the function converts a variable from ndarray or dataframe format to numpy array\n",
        "def to_nparray(x):\n",
        "    if isinstance(x,np.ndarray) or isinstance(x,pd.DataFrame):\n",
        "        return np.array(x)\n",
        "    elif isinstance(x,np.float64):\n",
        "        return np.array([x])\n",
        "    elif isinstance(x,cudf.DataFrame) or isinstance(x,cudf.Series):\n",
        "        return x.to_pandas().values\n",
        "    return x\n"
      ],
      "execution_count": 0,
      "outputs": []
    },
    {
      "cell_type": "markdown",
      "metadata": {
        "id": "O8-VlB1JCw5A",
        "colab_type": "text"
      },
      "source": [
        "# Run tests"
      ]
    },
    {
      "cell_type": "code",
      "metadata": {
        "id": "favFgpCVCw5B",
        "colab_type": "code",
        "colab": {
          "base_uri": "https://localhost:8080/",
          "height": 136
        },
        "outputId": "e1ca66f8-26d4-4bb5-ad84-4a8e7944ffb0"
      },
      "source": [
        "%%time\n",
        "# nrows = number of samples\n",
        "# ncols = number of features of each sample\n",
        "nrows = 2**20\n",
        "ncols = 399\n",
        "\n",
        "# dataset is split into a ratio of 80:20, \n",
        "# 80% is used as the training data and the remaining 20% is used as the test data\n",
        "X_train, X_test, y_train, y_test = load_data(nrows,ncols)\n",
        "y_train_ser = y_train['fea0']\n",
        "print('training data',X_train.shape)\n",
        "print('training label',y_train.shape)\n",
        "print('testing data',X_test.shape)\n",
        "print('testing label',y_test.shape)"
      ],
      "execution_count": 5,
      "outputs": [
        {
          "output_type": "stream",
          "text": [
            "use random data\n",
            "training data (838860, 399)\n",
            "training label (838860, 1)\n",
            "testing data (209716, 399)\n",
            "testing label (209716, 1)\n",
            "CPU times: user 16.1 s, sys: 3.61 s, total: 19.7 s\n",
            "Wall time: 19.8 s\n"
          ],
          "name": "stdout"
        }
      ]
    },
    {
      "cell_type": "markdown",
      "metadata": {
        "id": "w_exXx_UCw5G",
        "colab_type": "text"
      },
      "source": [
        "Here we set the parameters usedby both libraries. You can change the number of iterations used by changing the `iterations` variable.  Please note that making this too high can cause the functions to take a long time to complete."
      ]
    },
    {
      "cell_type": "code",
      "metadata": {
        "id": "DTT1OGzxCw5H",
        "colab_type": "code",
        "colab": {}
      },
      "source": [
        "#set parameters \n",
        "learning_rate = 'adaptive'\n",
        "datatype = np.float32\n",
        "penalty = 'elasticnet'\n",
        "loss = 'squared_loss'\n",
        "iterations = 10 "
      ],
      "execution_count": 0,
      "outputs": []
    },
    {
      "cell_type": "markdown",
      "metadata": {
        "id": "uymvkHgWCw5K",
        "colab_type": "text"
      },
      "source": [
        "The `max_iter` parameter controls the maxixmum number of iterations the model can run for but it doesn’t guarantee that the model will definitely run for all those epochs, therefore the sklearn might run for less number of epochs than the cuML model"
      ]
    },
    {
      "cell_type": "code",
      "metadata": {
        "id": "FvZdm9lWCw5L",
        "colab_type": "code",
        "colab": {
          "base_uri": "https://localhost:8080/",
          "height": 105
        },
        "outputId": "058c4cc1-bb12-427f-c12b-ee31deb629f5"
      },
      "source": [
        "%%time\n",
        "# use the sklearn SGD Regressor model to fit the dataset \n",
        "sk_sgd = SGDRegressor(learning_rate=learning_rate, eta0=0.07,\n",
        "                       max_iter=iterations, tol=0.0, fit_intercept=True,\n",
        "                       penalty=penalty, loss=loss)\n",
        "sk_sgd.fit(X_train, y_train_ser)\n"
      ],
      "execution_count": 7,
      "outputs": [
        {
          "output_type": "stream",
          "text": [
            "CPU times: user 44.8 s, sys: 52.6 ms, total: 44.8 s\n",
            "Wall time: 44.9 s\n"
          ],
          "name": "stdout"
        },
        {
          "output_type": "stream",
          "text": [
            "/usr/local/lib/python3.6/dist-packages/sklearn/linear_model/stochastic_gradient.py:1185: ConvergenceWarning: Maximum number of iteration reached before convergence. Consider increasing max_iter to improve the fit.\n",
            "  ConvergenceWarning)\n"
          ],
          "name": "stderr"
        }
      ]
    },
    {
      "cell_type": "code",
      "metadata": {
        "id": "EX8-fUSPCw5N",
        "colab_type": "code",
        "colab": {
          "base_uri": "https://localhost:8080/",
          "height": 51
        },
        "outputId": "1204f7a7-a91d-42b8-bbc6-11d5fdd48aa3"
      },
      "source": [
        "%%time\n",
        "# test the model by predicting its results for the unseen test set\n",
        "y_sk = sk_sgd.predict(X_test)\n",
        "\n",
        "# calculate the Mean Squared Error for the model's predictions\n",
        "error_sk = mean_squared_error(y_test,y_sk)\n"
      ],
      "execution_count": 8,
      "outputs": [
        {
          "output_type": "stream",
          "text": [
            "CPU times: user 195 ms, sys: 3.93 ms, total: 199 ms\n",
            "Wall time: 149 ms\n"
          ],
          "name": "stdout"
        }
      ]
    },
    {
      "cell_type": "code",
      "metadata": {
        "id": "baA0XjYgCw5T",
        "colab_type": "code",
        "colab": {
          "base_uri": "https://localhost:8080/",
          "height": 51
        },
        "outputId": "5df8023e-5294-41eb-a045-bd62dd0e8b4f"
      },
      "source": [
        "%%time\n",
        "# convert the pandas dataframe to cuDF dataframe and series\n",
        "X_cudf = cudf.DataFrame.from_pandas(X_train)\n",
        "X_cudf_test = cudf.DataFrame.from_pandas(X_test)\n",
        "y_cudf = cudf.Series(y_train_ser)"
      ],
      "execution_count": 9,
      "outputs": [
        {
          "output_type": "stream",
          "text": [
            "CPU times: user 3.33 s, sys: 1.7 s, total: 5.03 s\n",
            "Wall time: 5.29 s\n"
          ],
          "name": "stdout"
        }
      ]
    },
    {
      "cell_type": "code",
      "metadata": {
        "id": "ku8uGfhHCw5W",
        "colab_type": "code",
        "colab": {
          "base_uri": "https://localhost:8080/",
          "height": 51
        },
        "outputId": "7702acb1-8ab6-4e78-a165-162d7b93b4f3"
      },
      "source": [
        "%%time\n",
        "# fit the training data on cuML's implementation of SGD\n",
        "cu_sgd = cumlSGD(learning_rate=learning_rate, eta0=0.07, epochs=iterations, #epochs == n_iter\n",
        "                 batch_size=512,\n",
        "                 tol=0.0, penalty=penalty, loss=loss)\n",
        "cu_sgd.fit(X_cudf, y_cudf)\n"
      ],
      "execution_count": 10,
      "outputs": [
        {
          "output_type": "stream",
          "text": [
            "CPU times: user 4 s, sys: 1.35 s, total: 5.35 s\n",
            "Wall time: 5.35 s\n"
          ],
          "name": "stdout"
        }
      ]
    },
    {
      "cell_type": "code",
      "metadata": {
        "id": "lj86ouxvCw5a",
        "colab_type": "code",
        "colab": {
          "base_uri": "https://localhost:8080/",
          "height": 51
        },
        "outputId": "bcb1b8c6-e07e-430d-dd19-e99f626435eb"
      },
      "source": [
        "%%time\n",
        "# test the model by predicting its values for the test set\n",
        "y_pred = cu_sgd.predict(X_cudf_test)\n",
        "y_pred = to_nparray(y_pred).ravel()\n",
        "# calculate the Mean Squared Error for the model's predictions\n",
        "error_cu = mean_squared_error(y_test,y_pred)"
      ],
      "execution_count": 11,
      "outputs": [
        {
          "output_type": "stream",
          "text": [
            "CPU times: user 110 ms, sys: 22.8 ms, total: 132 ms\n",
            "Wall time: 136 ms\n"
          ],
          "name": "stdout"
        }
      ]
    },
    {
      "cell_type": "code",
      "metadata": {
        "id": "oaXYoGNgCw5c",
        "colab_type": "code",
        "colab": {
          "base_uri": "https://localhost:8080/",
          "height": 85
        },
        "outputId": "890dfe2b-ea25-4f91-db53-2671733b4c1a"
      },
      "source": [
        "# print the MSE of the sklearn and cuML models to compare them\n",
        "print(\"SKL MSE(y):\")\n",
        "print(error_sk)\n",
        "print(\"CUML MSE(y):\")\n",
        "print(error_cu)"
      ],
      "execution_count": 12,
      "outputs": [
        {
          "output_type": "stream",
          "text": [
            "SKL MSE(y):\n",
            "9.447812571845638\n",
            "CUML MSE(y):\n",
            "28.492871311678652\n"
          ],
          "name": "stdout"
        }
      ]
    },
    {
      "cell_type": "code",
      "metadata": {
        "id": "mC8MvNWFCw5g",
        "colab_type": "code",
        "colab": {}
      },
      "source": [
        ""
      ],
      "execution_count": 0,
      "outputs": []
    }
  ]
}