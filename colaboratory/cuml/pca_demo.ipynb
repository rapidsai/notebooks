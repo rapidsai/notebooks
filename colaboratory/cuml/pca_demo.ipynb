{
  "nbformat": 4,
  "nbformat_minor": 0,
  "metadata": {
    "colab": {
      "name": "pca_demo.ipynb",
      "version": "0.3.2",
      "provenance": [],
      "include_colab_link": true
    },
    "language_info": {
      "codemirror_mode": {
        "name": "ipython",
        "version": 3
      },
      "file_extension": ".py",
      "mimetype": "text/x-python",
      "name": "python",
      "nbconvert_exporter": "python",
      "pygments_lexer": "ipython3",
      "version": "3.6.8"
    },
    "kernelspec": {
      "name": "python3",
      "display_name": "Python 3"
    },
    "accelerator": "GPU"
  },
  "cells": [
    {
      "cell_type": "markdown",
      "metadata": {
        "id": "view-in-github",
        "colab_type": "text"
      },
      "source": [
        "<a href=\"https://colab.research.google.com/github/Raziel619/notebooks/blob/branch-0.8/colaboratory/cuml/pca_demo.ipynb\" target=\"_parent\"><img src=\"https://colab.research.google.com/assets/colab-badge.svg\" alt=\"Open In Colab\"/></a>"
      ]
    },
    {
      "cell_type": "markdown",
      "metadata": {
        "id": "h0QdVhSqGmWp",
        "colab_type": "text"
      },
      "source": [
        "\n",
        "# Principal Componenet Analysis (PCA)\n",
        "The PCA algorithm is a dimensionality reduction algorithm which works really well for datasets which have correlated columns. It combines the features of X in linear combination such that the new components capture the most information of the data. \n",
        "The PCA model is implemented in the cuML library and can accept the following parameters: \n",
        "1. svd_solver: selects the type of algorithm used: Jacobi or full (default = full)\n",
        "2. n_components: the number of top K vectors to be present in the output (default = 1)\n",
        "3. random_state: select a random state if the results should be reproducible across multiple runs (default = None)\n",
        "4. copy: if 'True' then it copies the data and removes mean from it else the data will be overwritten with its mean centered version (default = True)\n",
        "5. whiten: if True, de-correlates the components (default = False)\n",
        "6. tol: if the svd_solver = 'Jacobi' then this variable is used to set the tolerance (default = 1e-7)\n",
        "7. iterated_power: if the svd_solver = 'Jacobi' then this variable decides the number of iterations (default = 15)\n",
        "\n",
        "The cuml implementation of the PCA model has the following functions that one can run:\n",
        "1. Fit: it fits the model with the dataset\n",
        "2. Fit_transform: fits the PCA model with the dataset and performs dimensionality reduction on it\n",
        "3. Inverse_transform: returns the original dataset when the transformed dataset is passed as the input\n",
        "4. Transform: performs dimensionality reduction on the dataset\n",
        "5. Get_params: returns the value of the parameters of the PCA model\n",
        "6. Set_params: allows the user to set the value of the parameters of the PCA model\n",
        "\n",
        "The model accepts only numpy arrays or cudf dataframes as the input. In order to convert your dataset to cudf format please read the cudf documentation on https://rapidsai.github.io/projects/cudf/en/latest/. For additional information on the PCA model please refer to the documentation on https://rapidsai.github.io/projects/cuml/en/latest/index.html"
      ]
    },
    {
      "cell_type": "code",
      "metadata": {
        "id": "pOExsbY0Hzj6",
        "colab_type": "code",
        "colab": {
          "base_uri": "https://localhost:8080/",
          "height": 2737
        },
        "outputId": "278bb786-a721-4f27-f397-8220034ab060"
      },
      "source": [
        "# intall miniconda\n",
        "# ensure Runtime is set to GPU, reset all runtimes if an error occurs\n",
        "!wget -c https://repo.continuum.io/miniconda/Miniconda3-4.5.4-Linux-x86_64.sh\n",
        "!chmod +x Miniconda3-4.5.4-Linux-x86_64.sh\n",
        "!bash ./Miniconda3-4.5.4-Linux-x86_64.sh -b -f -p /usr/local\n",
        "\n",
        "# install RAPIDS packages\n",
        "!conda install -q -y --prefix /usr/local -c conda-forge \\\n",
        "  -c rapidsai-nightly/label/cuda10.0 -c nvidia/label/cuda10.0 \\\n",
        "  cudf cuml\n",
        "\n",
        "# set environment vars\n",
        "import sys, os, shutil\n",
        "sys.path.append('/usr/local/lib/python3.6/site-packages/')\n",
        "os.environ['NUMBAPRO_NVVM'] = '/usr/local/cuda/nvvm/lib64/libnvvm.so'\n",
        "os.environ['NUMBAPRO_LIBDEVICE'] = '/usr/local/cuda/nvvm/libdevice/'\n",
        "\n",
        "# copy .so files to current working dir\n",
        "for fn in ['libcudf.so', 'librmm.so']:\n",
        "  shutil.copy('/usr/local/lib/'+fn, os.getcwd())"
      ],
      "execution_count": 2,
      "outputs": [
        {
          "output_type": "stream",
          "text": [
            "--2019-06-06 17:16:44--  https://repo.continuum.io/miniconda/Miniconda3-4.5.4-Linux-x86_64.sh\n",
            "Resolving repo.continuum.io (repo.continuum.io)... 104.18.201.79, 104.18.200.79, 2606:4700::6812:c94f, ...\n",
            "Connecting to repo.continuum.io (repo.continuum.io)|104.18.201.79|:443... connected.\n",
            "HTTP request sent, awaiting response... 200 OK\n",
            "Length: 58468498 (56M) [application/x-sh]\n",
            "Saving to: ‘Miniconda3-4.5.4-Linux-x86_64.sh’\n",
            "\n",
            "Miniconda3-4.5.4-Li 100%[===================>]  55.76M  61.2MB/s    in 0.9s    \n",
            "\n",
            "2019-06-06 17:16:45 (61.2 MB/s) - ‘Miniconda3-4.5.4-Linux-x86_64.sh’ saved [58468498/58468498]\n",
            "\n",
            "PREFIX=/usr/local\n",
            "installing: python-3.6.5-hc3d631a_2 ...\n",
            "Python 3.6.5 :: Anaconda, Inc.\n",
            "installing: ca-certificates-2018.03.07-0 ...\n",
            "installing: conda-env-2.6.0-h36134e3_1 ...\n",
            "installing: libgcc-ng-7.2.0-hdf63c60_3 ...\n",
            "installing: libstdcxx-ng-7.2.0-hdf63c60_3 ...\n",
            "installing: libffi-3.2.1-hd88cf55_4 ...\n",
            "installing: ncurses-6.1-hf484d3e_0 ...\n",
            "installing: openssl-1.0.2o-h20670df_0 ...\n",
            "installing: tk-8.6.7-hc745277_3 ...\n",
            "installing: xz-5.2.4-h14c3975_4 ...\n",
            "installing: yaml-0.1.7-had09818_2 ...\n",
            "installing: zlib-1.2.11-ha838bed_2 ...\n",
            "installing: libedit-3.1.20170329-h6b74fdf_2 ...\n",
            "installing: readline-7.0-ha6073c6_4 ...\n",
            "installing: sqlite-3.23.1-he433501_0 ...\n",
            "installing: asn1crypto-0.24.0-py36_0 ...\n",
            "installing: certifi-2018.4.16-py36_0 ...\n",
            "installing: chardet-3.0.4-py36h0f667ec_1 ...\n",
            "installing: idna-2.6-py36h82fb2a8_1 ...\n",
            "installing: pycosat-0.6.3-py36h0a5515d_0 ...\n",
            "installing: pycparser-2.18-py36hf9f622e_1 ...\n",
            "installing: pysocks-1.6.8-py36_0 ...\n",
            "installing: ruamel_yaml-0.15.37-py36h14c3975_2 ...\n",
            "installing: six-1.11.0-py36h372c433_1 ...\n",
            "installing: cffi-1.11.5-py36h9745a5d_0 ...\n",
            "installing: setuptools-39.2.0-py36_0 ...\n",
            "installing: cryptography-2.2.2-py36h14c3975_0 ...\n",
            "installing: wheel-0.31.1-py36_0 ...\n",
            "installing: pip-10.0.1-py36_0 ...\n",
            "installing: pyopenssl-18.0.0-py36_0 ...\n",
            "installing: urllib3-1.22-py36hbe7ace6_0 ...\n",
            "installing: requests-2.18.4-py36he2e5f8d_1 ...\n",
            "installing: conda-4.5.4-py36_0 ...\n",
            "installation finished.\n",
            "WARNING:\n",
            "    You currently have a PYTHONPATH environment variable set. This may cause\n",
            "    unexpected behavior when running the Python interpreter in Miniconda3.\n",
            "    For best results, please verify that your PYTHONPATH only points to\n",
            "    directories of packages that are compatible with the Python interpreter\n",
            "    in Miniconda3: /usr/local\n",
            "Solving environment: ...working... done\n",
            "\n",
            "## Package Plan ##\n",
            "\n",
            "  environment location: /usr/local\n",
            "\n",
            "  added / updated specs: \n",
            "    - cudf\n",
            "    - cuml\n",
            "\n",
            "\n",
            "The following packages will be downloaded:\n",
            "\n",
            "    package                    |            build\n",
            "    ---------------------------|-----------------\n",
            "    libgfortran-3.0.0          |                1         281 KB  conda-forge\n",
            "    cuml-0.8.0a                |cuda10.0_py36_1061         3.5 MB  rapidsai-nightly/label/cuda10.0\n",
            "    libgcc-ng-8.2.0            |       hdf63c60_1         7.6 MB\n",
            "    libnvstrings-0.8.0a        |      cuda10.0_73         9.6 MB  rapidsai-nightly/label/cuda10.0\n",
            "    libcudf-0.8.0a1            |     cuda10.0_488        15.8 MB  rapidsai-nightly/label/cuda10.0\n",
            "    cryptography-2.7           |   py36h72c5cf5_0         607 KB  conda-forge\n",
            "    certifi-2019.3.9           |           py36_0         149 KB  conda-forge\n",
            "    liblapack-3.8.0            |       7_openblas           6 KB  conda-forge\n",
            "    libstdcxx-ng-8.2.0         |       hdf63c60_1         2.9 MB\n",
            "    numba-0.43.1               |   py36hf2d7682_0         2.9 MB  conda-forge\n",
            "    python-dateutil-2.8.0      |             py_0         219 KB  conda-forge\n",
            "    parquet-cpp-1.5.1          |                4           3 KB  conda-forge\n",
            "    llvmlite-0.28.0            |   py36hdbcaa40_0        20.2 MB  conda-forge\n",
            "    cudf-0.8.0a1               |         py36_488         2.8 MB  rapidsai-nightly/label/cuda10.0\n",
            "    arrow-cpp-0.12.1           |   py36h0e61e49_0         6.9 MB  conda-forge\n",
            "    rmm-0.8.0a                 |          py36_36          14 KB  rapidsai-nightly/label/cuda10.0\n",
            "    boost-cpp-1.68.0           |    h11c811c_1000        20.5 MB  conda-forge\n",
            "    pyarrow-0.12.1             |   py36hbbcf98d_0         2.2 MB  conda-forge\n",
            "    openblas-0.3.5             |       ha44fe06_0        13.7 MB  conda-forge\n",
            "    pytz-2019.1                |             py_0         227 KB  conda-forge\n",
            "    icu-58.2                   |    hf484d3e_1000        22.6 MB  conda-forge\n",
            "    sqlite-3.28.0              |       h8b20d00_0         1.9 MB  conda-forge\n",
            "    thrift-cpp-0.12.0          |    h0a07b25_1002         2.4 MB  conda-forge\n",
            "    nvstrings-0.8.0a           |          py36_73          90 KB  rapidsai-nightly/label/cuda10.0\n",
            "    tk-8.6.9                   |    hed695b0_1002         3.2 MB  conda-forge\n",
            "    libcuml-0.8.0a             |    cuda10.0_1061        23.9 MB  rapidsai-nightly/label/cuda10.0\n",
            "    conda-4.6.14               |           py36_0         2.1 MB  conda-forge\n",
            "    cudatoolkit-10.0.130       |                0       380.0 MB\n",
            "    libprotobuf-3.6.1          |    hdbcaa40_1001         4.0 MB  conda-forge\n",
            "    librmm-0.8.0a              |      cuda10.0_36          39 KB  rapidsai-nightly/label/cuda10.0\n",
            "    openssl-1.1.1b             |       h14c3975_1         4.0 MB  conda-forge\n",
            "    cython-0.29.10             |   py36he1b5a44_0         2.2 MB  conda-forge\n",
            "    python-3.6.7               |    h381d211_1004        34.5 MB  conda-forge\n",
            "    numpy-1.16.4               |   py36h95a1406_0         4.3 MB  conda-forge\n",
            "    libblas-3.8.0              |       7_openblas           6 KB  conda-forge\n",
            "    pandas-0.24.2              |   py36hb3f55d8_0        11.1 MB  conda-forge\n",
            "    libcblas-3.8.0             |       7_openblas           6 KB  conda-forge\n",
            "    bzip2-1.0.6                |    h14c3975_1002         415 KB  conda-forge\n",
            "    ca-certificates-2019.3.9   |       hecc5488_0         146 KB  conda-forge\n",
            "    libcumlmg-0.0.0.dev0       |     cuda10.0_373         955 KB  nvidia/label/cuda10.0\n",
            "    ------------------------------------------------------------\n",
            "                                           Total:       607.9 MB\n",
            "\n",
            "The following NEW packages will be INSTALLED:\n",
            "\n",
            "    arrow-cpp:       0.12.1-py36h0e61e49_0     conda-forge                    \n",
            "    boost-cpp:       1.68.0-h11c811c_1000      conda-forge                    \n",
            "    bzip2:           1.0.6-h14c3975_1002       conda-forge                    \n",
            "    cudatoolkit:     10.0.130-0                                               \n",
            "    cudf:            0.8.0a1-py36_488          rapidsai-nightly/label/cuda10.0\n",
            "    cuml:            0.8.0a-cuda10.0_py36_1061 rapidsai-nightly/label/cuda10.0\n",
            "    cython:          0.29.10-py36he1b5a44_0    conda-forge                    \n",
            "    icu:             58.2-hf484d3e_1000        conda-forge                    \n",
            "    libblas:         3.8.0-7_openblas          conda-forge                    \n",
            "    libcblas:        3.8.0-7_openblas          conda-forge                    \n",
            "    libcudf:         0.8.0a1-cuda10.0_488      rapidsai-nightly/label/cuda10.0\n",
            "    libcuml:         0.8.0a-cuda10.0_1061      rapidsai-nightly/label/cuda10.0\n",
            "    libcumlmg:       0.0.0.dev0-cuda10.0_373   nvidia/label/cuda10.0          \n",
            "    libgfortran:     3.0.0-1                   conda-forge                    \n",
            "    liblapack:       3.8.0-7_openblas          conda-forge                    \n",
            "    libnvstrings:    0.8.0a-cuda10.0_73        rapidsai-nightly/label/cuda10.0\n",
            "    libprotobuf:     3.6.1-hdbcaa40_1001       conda-forge                    \n",
            "    librmm:          0.8.0a-cuda10.0_36        rapidsai-nightly/label/cuda10.0\n",
            "    llvmlite:        0.28.0-py36hdbcaa40_0     conda-forge                    \n",
            "    numba:           0.43.1-py36hf2d7682_0     conda-forge                    \n",
            "    numpy:           1.16.4-py36h95a1406_0     conda-forge                    \n",
            "    nvstrings:       0.8.0a-py36_73            rapidsai-nightly/label/cuda10.0\n",
            "    openblas:        0.3.5-ha44fe06_0          conda-forge                    \n",
            "    pandas:          0.24.2-py36hb3f55d8_0     conda-forge                    \n",
            "    parquet-cpp:     1.5.1-4                   conda-forge                    \n",
            "    pyarrow:         0.12.1-py36hbbcf98d_0     conda-forge                    \n",
            "    python-dateutil: 2.8.0-py_0                conda-forge                    \n",
            "    pytz:            2019.1-py_0               conda-forge                    \n",
            "    rmm:             0.8.0a-py36_36            rapidsai-nightly/label/cuda10.0\n",
            "    thrift-cpp:      0.12.0-h0a07b25_1002      conda-forge                    \n",
            "\n",
            "The following packages will be UPDATED:\n",
            "\n",
            "    ca-certificates: 2018.03.07-0                                              --> 2019.3.9-hecc5488_0 conda-forge\n",
            "    certifi:         2018.4.16-py36_0                                          --> 2019.3.9-py36_0     conda-forge\n",
            "    conda:           4.5.4-py36_0                                              --> 4.6.14-py36_0       conda-forge\n",
            "    cryptography:    2.2.2-py36h14c3975_0                                      --> 2.7-py36h72c5cf5_0  conda-forge\n",
            "    libgcc-ng:       7.2.0-hdf63c60_3                                          --> 8.2.0-hdf63c60_1               \n",
            "    libstdcxx-ng:    7.2.0-hdf63c60_3                                          --> 8.2.0-hdf63c60_1               \n",
            "    openssl:         1.0.2o-h20670df_0                                         --> 1.1.1b-h14c3975_1   conda-forge\n",
            "    python:          3.6.5-hc3d631a_2                                          --> 3.6.7-h381d211_1004 conda-forge\n",
            "    sqlite:          3.23.1-he433501_0                                         --> 3.28.0-h8b20d00_0   conda-forge\n",
            "    tk:              8.6.7-hc745277_3                                          --> 8.6.9-hed695b0_1002 conda-forge\n",
            "\n",
            "Preparing transaction: ...working... done\n",
            "Verifying transaction: ...working... done\n",
            "Executing transaction: ...working... done\n"
          ],
          "name": "stdout"
        }
      ]
    },
    {
      "cell_type": "code",
      "metadata": {
        "id": "qMYqyW55GmWq",
        "colab_type": "code",
        "colab": {}
      },
      "source": [
        "import numpy as np\n",
        "import pandas as pd\n",
        "from sklearn.decomposition import PCA as skPCA\n",
        "from cuml import PCA as cumlPCA\n",
        "import cudf\n",
        "import os"
      ],
      "execution_count": 0,
      "outputs": []
    },
    {
      "cell_type": "code",
      "metadata": {
        "id": "pxR0jcYfm4Ap",
        "colab_type": "code",
        "colab": {}
      },
      "source": [
        "#https://github.com/rapidsai/notebooks/blob/branch-0.8/cuml/data/mortgage.npy.gz?raw=true\n",
        "!mkdir -p data/ && wget -O data/mortgage.npy.gz https://github.com/rapidsai/notebooks/blob/branch-0.8/cuml/data/mortgage.npy.gz?raw=true"
      ],
      "execution_count": 0,
      "outputs": []
    },
    {
      "cell_type": "markdown",
      "metadata": {
        "id": "_OjRzSoiGmWt",
        "colab_type": "text"
      },
      "source": [
        "# Helper Functions"
      ]
    },
    {
      "cell_type": "code",
      "metadata": {
        "id": "JSSvVhfXGmWu",
        "colab_type": "code",
        "colab": {}
      },
      "source": [
        "# check if the mortgage dataset is present and then extract the data from it, else do not run \n",
        "import gzip\n",
        "def load_data(nrows, ncols, cached = 'data/mortgage.npy.gz'):\n",
        "    if os.path.exists(cached):\n",
        "        print('use mortgage data')\n",
        "        with gzip.open(cached) as f:\n",
        "            X = np.load(f)\n",
        "        X = X[np.random.randint(0,X.shape[0]-1,nrows),:ncols]\n",
        "    else:\n",
        "        # throws FileNotFoundError error if mortgage dataset is not present\n",
        "        raise FileNotFoundError('Please download the required dataset or check the path')\n",
        "    df = pd.DataFrame({'fea%d'%i:X[:,i] for i in range(X.shape[1])})\n",
        "    return df"
      ],
      "execution_count": 0,
      "outputs": []
    },
    {
      "cell_type": "code",
      "metadata": {
        "id": "FlMQrDAuGmWw",
        "colab_type": "code",
        "colab": {}
      },
      "source": [
        "# this function checks if the results obtained from two different methods (sklearn and cuml) are the equal\n",
        "from sklearn.metrics import mean_squared_error\n",
        "def array_equal(a,b,threshold=2e-3,with_sign=True):\n",
        "    a = to_nparray(a)\n",
        "    b = to_nparray(b)\n",
        "    if with_sign == False:\n",
        "        a,b = np.abs(a),np.abs(b)\n",
        "    error = mean_squared_error(a,b)\n",
        "    res = error<threshold\n",
        "    return res\n",
        "\n",
        "# the function converts a variable from ndarray or dataframe format to numpy array\n",
        "def to_nparray(x):\n",
        "    if isinstance(x,np.ndarray) or isinstance(x,pd.DataFrame):\n",
        "        return np.array(x)\n",
        "    elif isinstance(x,np.float64):\n",
        "        return np.array([x])\n",
        "    elif isinstance(x,cudf.DataFrame) or isinstance(x,cudf.Series):\n",
        "        return x.to_pandas().values\n",
        "    return x    "
      ],
      "execution_count": 0,
      "outputs": []
    },
    {
      "cell_type": "markdown",
      "metadata": {
        "id": "mEt3pDA3GmW0",
        "colab_type": "text"
      },
      "source": [
        "# Run tests"
      ]
    },
    {
      "cell_type": "code",
      "metadata": {
        "id": "fV3RsXIYGmW0",
        "colab_type": "code",
        "outputId": "7952f2dc-ac0c-4dcc-f444-71428778c568",
        "colab": {
          "base_uri": "https://localhost:8080/",
          "height": 68
        }
      },
      "source": [
        "%%time\n",
        "# nrows = number of samples\n",
        "# ncols = number of features of each sample\n",
        "\n",
        "nrows = 2**15\n",
        "nrows = int(nrows * 1.5)\n",
        "ncols = 400\n",
        "\n",
        "X = load_data(nrows,ncols)\n",
        "#print('data',X.shape) <- this line currently throws an error, tuple takes no attribute shape\n",
        "#print(X)"
      ],
      "execution_count": 7,
      "outputs": [
        {
          "output_type": "stream",
          "text": [
            "use mortgage data\n",
            "CPU times: user 5.37 s, sys: 919 ms, total: 6.29 s\n",
            "Wall time: 6.29 s\n"
          ],
          "name": "stdout"
        }
      ]
    },
    {
      "cell_type": "code",
      "metadata": {
        "id": "LCh6JGajGmW3",
        "colab_type": "code",
        "colab": {}
      },
      "source": [
        "# set parameters for the PCA model\n",
        "n_components = 10\n",
        "whiten = False\n",
        "random_state = 42\n",
        "svd_solver=\"full\""
      ],
      "execution_count": 0,
      "outputs": []
    },
    {
      "cell_type": "code",
      "metadata": {
        "id": "djvCwlRXGmW-",
        "colab_type": "code",
        "outputId": "b02018aa-f8bc-4d28-cc4e-4360b63e6194",
        "colab": {
          "base_uri": "https://localhost:8080/",
          "height": 51
        }
      },
      "source": [
        "%%time\n",
        "# convert the pandas dataframe to cudf dataframe\n",
        "X = cudf.DataFrame.from_pandas(X)"
      ],
      "execution_count": 9,
      "outputs": [
        {
          "output_type": "stream",
          "text": [
            "CPU times: user 1.47 s, sys: 664 ms, total: 2.14 s\n",
            "Wall time: 2.22 s\n"
          ],
          "name": "stdout"
        }
      ]
    },
    {
      "cell_type": "code",
      "metadata": {
        "id": "zKiCxgO8GmW6",
        "colab_type": "code",
        "outputId": "ad7d7794-2071-4b15-8246-e1fbb936897d",
        "colab": {
          "base_uri": "https://localhost:8080/",
          "height": 51
        }
      },
      "source": [
        "%%time\n",
        "# use the sklearn PCA on the dataset\n",
        "pca_sk = skPCA(n_components=n_components,svd_solver=svd_solver, \n",
        "            whiten=whiten, random_state=random_state)\n",
        "# creates adwdwn embedding\n",
        "result_sk = pca_sk.fit_transform(to_nparray(X))"
      ],
      "execution_count": 10,
      "outputs": [
        {
          "output_type": "stream",
          "text": [
            "CPU times: user 2.47 s, sys: 168 ms, total: 2.63 s\n",
            "Wall time: 1.72 s\n"
          ],
          "name": "stdout"
        }
      ]
    },
    {
      "cell_type": "code",
      "metadata": {
        "id": "UOqYo1yVGmXA",
        "colab_type": "code",
        "colab": {
          "base_uri": "https://localhost:8080/",
          "height": 51
        },
        "outputId": "8df6cf32-22ec-43b8-b936-5909831a1265"
      },
      "source": [
        "%%time\n",
        "# use the cuml PCA model on the dataset\n",
        "pca_cuml = cumlPCA(n_components=n_components,svd_solver=svd_solver, \n",
        "            whiten=whiten, random_state=random_state)\n",
        "# obtain the embedding of the model\n",
        "result_cuml = pca_cuml.fit_transform(X)"
      ],
      "execution_count": 11,
      "outputs": [
        {
          "output_type": "stream",
          "text": [
            "CPU times: user 1.13 s, sys: 84 ms, total: 1.22 s\n",
            "Wall time: 1.21 s\n"
          ],
          "name": "stdout"
        }
      ]
    },
    {
      "cell_type": "code",
      "metadata": {
        "id": "rRJMM6P5GmXE",
        "colab_type": "code",
        "colab": {
          "base_uri": "https://localhost:8080/",
          "height": 85
        },
        "outputId": "2c6b3241-b939-4cfb-d8b8-afe65299f836"
      },
      "source": [
        "# calculate the attributes of the two models and compare them\n",
        "for attr in ['singular_values_','components_','explained_variance_',\n",
        "             'explained_variance_ratio_']:\n",
        "    passed = array_equal(getattr(pca_sk,attr),getattr(pca_cuml,attr))\n",
        "    message = 'compare pca: cuml vs sklearn {:>25} {}'.format(attr,'equal' if passed else 'NOT equal')\n",
        "    print(message)"
      ],
      "execution_count": 12,
      "outputs": [
        {
          "output_type": "stream",
          "text": [
            "compare pca: cuml vs sklearn          singular_values_ equal\n",
            "compare pca: cuml vs sklearn               components_ equal\n",
            "compare pca: cuml vs sklearn       explained_variance_ equal\n",
            "compare pca: cuml vs sklearn explained_variance_ratio_ equal\n"
          ],
          "name": "stdout"
        }
      ]
    },
    {
      "cell_type": "code",
      "metadata": {
        "id": "-o7f41eyGmXI",
        "colab_type": "code",
        "colab": {
          "base_uri": "https://localhost:8080/",
          "height": 34
        },
        "outputId": "b8e26e85-cb55-45a7-e628-25bebb9ec9b9"
      },
      "source": [
        "# compare the results of the two models\n",
        "passed = array_equal(result_sk,result_cuml)\n",
        "message = 'compare pca: cuml vs sklearn transformed results %s'%('equal'if passed else 'NOT equal')\n",
        "print(message)"
      ],
      "execution_count": 13,
      "outputs": [
        {
          "output_type": "stream",
          "text": [
            "compare pca: cuml vs sklearn transformed results equal\n"
          ],
          "name": "stdout"
        }
      ]
    },
    {
      "cell_type": "code",
      "metadata": {
        "id": "qMZ9K3IDGmXM",
        "colab_type": "code",
        "colab": {}
      },
      "source": [
        ""
      ],
      "execution_count": 0,
      "outputs": []
    }
  ]
}