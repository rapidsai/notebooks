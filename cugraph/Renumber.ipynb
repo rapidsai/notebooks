{
 "cells": [
  {
   "cell_type": "markdown",
   "metadata": {},
   "source": [
    "# Renumbering Test\n",
    "\n",
    "Demonstrate creating a graph with renumbering.\n",
    "\n",
    "Most cugraph algorithms operate on a CSR representation of a graph.  A CSR representation requires an indices array that is as long as the number of edges and an offsets array that is as 1 more than the largest vertex id.  This makes the memory utilization entirely dependent on the size of the largest vertex id.  For data sets that have a sparse range of vertex ids, the size of the CSR can be unnecessarily large.  It is easy to construct an example where the amount of memory required for the offsets array will exceed the amount of memory in the GPU (not to mention the performance cost of having a large number of offsets that are empty but still have to be read to be skipped).\n",
    "\n",
    "The cugraph renumbering feature allows us to take two columns of any integer type and translate them into a densely packed contiguous array numbered from 0 to (num_unique_values - 1).  These renumbered vertices can be used to create a graph much more efficiently.\n",
    "\n",
    "Another of the features of the renumbering function is that it can take vertex ids that are 64-bit values and map them down into a range that fits into 32-bit integers.  The current cugraph algorithms are limited to 32-bit signed integers as vertex ids. and the renumbering feature will allow the caller to translate ids that are 64-bit into a densly packed 32-bit array of ids that can be used in cugraph algorithms.  Note that if there are more than 2^31 - 1 unique vertex ids then the renumber method will fail with an error indicating that there are too many vertices to renumber into a 32-bit signed integer.\n",
    "\n",
    "Note that this version (0.7) is limited to integer types.  The intention is to extend the renumbering function to be able to handle strings and other types."
   ]
  },
  {
   "cell_type": "markdown",
   "metadata": {},
   "source": [
    "First step is to import the needed libraries"
   ]
  },
  {
   "cell_type": "code",
   "execution_count": 1,
   "metadata": {},
   "outputs": [],
   "source": [
    "import cugraph\n",
    "import cudf\n",
    "import socket\n",
    "import struct\n",
    "import pandas as pd\n",
    "import numpy as np\n",
    "import networkx as nx\n"
   ]
  },
  {
   "cell_type": "markdown",
   "metadata": {},
   "source": [
    "# Create some test data\n",
    "\n",
    "This creates a small circle using some ipv4 addresses, storing the columns in a GPU data frame.\n",
    "\n",
    "The current version of renumbering operates only on integer types, so we translate the ipv4 strings into 64 bit integers."
   ]
  },
  {
   "cell_type": "code",
   "execution_count": 2,
   "metadata": {},
   "outputs": [
    {
     "name": "stdout",
     "output_type": "stream",
     "text": [
      "sources came from: ['192.168.1.1', '172.217.5.238', '216.228.121.209', '192.16.31.23']\n",
      "  sources as int = [3232235777, 2899903982, 3638852049, 3222282007]\n",
      "destinations came from: ['172.217.5.238', '216.228.121.209', '192.16.31.23', '192.168.1.1']\n",
      "  destinations as int = [2899903982, 3638852049, 3222282007, 3232235777]\n"
     ]
    }
   ],
   "source": [
    "source_list = [ '192.168.1.1', '172.217.5.238', '216.228.121.209', '192.16.31.23' ]\n",
    "dest_list = [ '172.217.5.238', '216.228.121.209', '192.16.31.23', '192.168.1.1' ]\n",
    "source_as_int = [ struct.unpack('!L', socket.inet_aton(x))[0] for x in source_list ]\n",
    "dest_as_int = [ struct.unpack('!L', socket.inet_aton(x))[0] for x in dest_list ]\n",
    "\n",
    "\n",
    "print(\"sources came from: \" + str([ socket.inet_ntoa(struct.pack('!L', x)) for x in source_as_int ]))\n",
    "print(\"  sources as int = \" + str(source_as_int))\n",
    "print(\"destinations came from: \" + str([ socket.inet_ntoa(struct.pack('!L', x)) for x in dest_as_int ]))\n",
    "print(\"  destinations as int = \" + str(dest_as_int))\n"
   ]
  },
  {
   "cell_type": "markdown",
   "metadata": {},
   "source": [
    "# Create our GPU data frame"
   ]
  },
  {
   "cell_type": "code",
   "execution_count": 3,
   "metadata": {},
   "outputs": [
    {
     "data": {
      "text/html": [
       "<div>\n",
       "<style scoped>\n",
       "    .dataframe tbody tr th:only-of-type {\n",
       "        vertical-align: middle;\n",
       "    }\n",
       "\n",
       "    .dataframe tbody tr th {\n",
       "        vertical-align: top;\n",
       "    }\n",
       "\n",
       "    .dataframe thead th {\n",
       "        text-align: right;\n",
       "    }\n",
       "</style>\n",
       "<table border=\"1\" class=\"dataframe\">\n",
       "  <thead>\n",
       "    <tr style=\"text-align: right;\">\n",
       "      <th></th>\n",
       "      <th>source_as_int</th>\n",
       "      <th>dest_as_int</th>\n",
       "    </tr>\n",
       "  </thead>\n",
       "  <tbody>\n",
       "    <tr>\n",
       "      <th>0</th>\n",
       "      <td>3232235777</td>\n",
       "      <td>2899903982</td>\n",
       "    </tr>\n",
       "    <tr>\n",
       "      <th>1</th>\n",
       "      <td>2899903982</td>\n",
       "      <td>3638852049</td>\n",
       "    </tr>\n",
       "    <tr>\n",
       "      <th>2</th>\n",
       "      <td>3638852049</td>\n",
       "      <td>3222282007</td>\n",
       "    </tr>\n",
       "    <tr>\n",
       "      <th>3</th>\n",
       "      <td>3222282007</td>\n",
       "      <td>3232235777</td>\n",
       "    </tr>\n",
       "  </tbody>\n",
       "</table>\n",
       "</div>"
      ],
      "text/plain": [
       "   source_as_int  dest_as_int\n",
       "0     3232235777   2899903982\n",
       "1     2899903982   3638852049\n",
       "2     3638852049   3222282007\n",
       "3     3222282007   3232235777"
      ]
     },
     "execution_count": 3,
     "metadata": {},
     "output_type": "execute_result"
    }
   ],
   "source": [
    "df = pd.DataFrame({\n",
    "        'source_list': source_list,\n",
    "        'dest_list': dest_list,\n",
    "        'source_as_int': source_as_int,\n",
    "        'dest_as_int': dest_as_int\n",
    "        })\n",
    "\n",
    "gdf = cudf.DataFrame.from_pandas(df[['source_as_int', 'dest_as_int']])\n",
    "\n",
    "gdf.to_pandas()"
   ]
  },
  {
   "cell_type": "markdown",
   "metadata": {},
   "source": [
    "# Run renumbering\n",
    "\n",
    "The current version of renumbering takes a column of source vertex ids and a column of dest vertex ids.  As mentioned above, these must be integer columns.\n",
    "\n",
    "Output from renumbering is 3 cudf.Series structures representing the renumbered sources, the renumbered destinations and the numbering map which maps the new ids back to the original ids.\n",
    "\n",
    "In this case,\n",
    " * gdf['source_as_int'] is a column of type int64\n",
    " * gdf['dest_as_int'] is a column of type int64\n",
    " * src_r will be a series of type int32 (we translate back to 32-bit integers)\n",
    " * dst_r will be a series of type int32\n",
    " * numbering will be a series of type int64 that translates the elements of src and dst back to their original 64-bit values\n",
    " \n",
    "Note that because the renumbering translates us to 32-bit integers, if there are more than 2^31 - 1 unique 64-bit values in the source/dest passed into renumbering this would exceed the size of the 32-bit integers so you will get an error from the renumber call. "
   ]
  },
  {
   "cell_type": "code",
   "execution_count": 4,
   "metadata": {},
   "outputs": [
    {
     "data": {
      "text/html": [
       "<div>\n",
       "<style scoped>\n",
       "    .dataframe tbody tr th:only-of-type {\n",
       "        vertical-align: middle;\n",
       "    }\n",
       "\n",
       "    .dataframe tbody tr th {\n",
       "        vertical-align: top;\n",
       "    }\n",
       "\n",
       "    .dataframe thead th {\n",
       "        text-align: right;\n",
       "    }\n",
       "</style>\n",
       "<table border=\"1\" class=\"dataframe\">\n",
       "  <thead>\n",
       "    <tr style=\"text-align: right;\">\n",
       "      <th></th>\n",
       "      <th>source_as_int</th>\n",
       "      <th>dest_as_int</th>\n",
       "      <th>original id</th>\n",
       "      <th>src_renumbered</th>\n",
       "      <th>dst_renumbered</th>\n",
       "    </tr>\n",
       "  </thead>\n",
       "  <tbody>\n",
       "    <tr>\n",
       "      <th>0</th>\n",
       "      <td>3232235777</td>\n",
       "      <td>2899903982</td>\n",
       "      <td>3638852049</td>\n",
       "      <td>1</td>\n",
       "      <td>2</td>\n",
       "    </tr>\n",
       "    <tr>\n",
       "      <th>1</th>\n",
       "      <td>2899903982</td>\n",
       "      <td>3638852049</td>\n",
       "      <td>3232235777</td>\n",
       "      <td>2</td>\n",
       "      <td>0</td>\n",
       "    </tr>\n",
       "    <tr>\n",
       "      <th>2</th>\n",
       "      <td>3638852049</td>\n",
       "      <td>3222282007</td>\n",
       "      <td>2899903982</td>\n",
       "      <td>0</td>\n",
       "      <td>3</td>\n",
       "    </tr>\n",
       "    <tr>\n",
       "      <th>3</th>\n",
       "      <td>3222282007</td>\n",
       "      <td>3232235777</td>\n",
       "      <td>3222282007</td>\n",
       "      <td>3</td>\n",
       "      <td>1</td>\n",
       "    </tr>\n",
       "  </tbody>\n",
       "</table>\n",
       "</div>"
      ],
      "text/plain": [
       "   source_as_int  dest_as_int  original id  src_renumbered  dst_renumbered\n",
       "0     3232235777   2899903982   3638852049               1               2\n",
       "1     2899903982   3638852049   3232235777               2               0\n",
       "2     3638852049   3222282007   2899903982               0               3\n",
       "3     3222282007   3232235777   3222282007               3               1"
      ]
     },
     "execution_count": 4,
     "metadata": {},
     "output_type": "execute_result"
    }
   ],
   "source": [
    "src_r, dst_r, numbering = cugraph.renumber(gdf['source_as_int'], gdf['dest_as_int'])\n",
    "\n",
    "gdf.add_column(\"original id\", numbering)\n",
    "gdf.add_column(\"src_renumbered\", src_r)\n",
    "gdf.add_column(\"dst_renumbered\", dst_r)\n",
    "\n",
    "gdf.to_pandas()"
   ]
  },
  {
   "cell_type": "markdown",
   "metadata": {},
   "source": [
    "# Data types\n",
    "\n",
    "Just to confirm, the data types of the renumbered columns should be int32, the original data should be int64, the numbering map needs to be int64 since the values it contains map to the original int64 types."
   ]
  },
  {
   "cell_type": "code",
   "execution_count": 5,
   "metadata": {},
   "outputs": [
    {
     "data": {
      "text/plain": [
       "source_as_int     int64\n",
       "dest_as_int       int64\n",
       "original id       int64\n",
       "src_renumbered    int32\n",
       "dst_renumbered    int32\n",
       "dtype: object"
      ]
     },
     "execution_count": 5,
     "metadata": {},
     "output_type": "execute_result"
    }
   ],
   "source": [
    "gdf.dtypes"
   ]
  },
  {
   "cell_type": "markdown",
   "metadata": {},
   "source": [
    "# Quick verification\n",
    "\n",
    "To understand the renumbering, here's a block of verification logic.  In the renumbered series we created a new id for each unique value in the original series.  The numbering map identifies that mapping.  For any vertex id X in the new numbering, numbering[X] should refer to the original value."
   ]
  },
  {
   "cell_type": "code",
   "execution_count": 6,
   "metadata": {},
   "outputs": [
    {
     "name": "stdout",
     "output_type": "stream",
     "text": [
      " 0: (3232235777,2899903982), renumbered: (1,2), translate back: (3232235777,2899903982)\n",
      " 1: (2899903982,3638852049), renumbered: (2,0), translate back: (2899903982,3638852049)\n",
      " 2: (3638852049,3222282007), renumbered: (0,3), translate back: (3638852049,3222282007)\n",
      " 3: (3222282007,3232235777), renumbered: (3,1), translate back: (3222282007,3232235777)\n"
     ]
    }
   ],
   "source": [
    "for i in range(len(src_r)):\n",
    "    print(\" \" + str(i) +\n",
    "          \": (\" + str(source_as_int[i]) + \",\" + str(dest_as_int[i]) +\")\"\n",
    "          \", renumbered: (\" + str(src_r[i]) + \",\" + str(dst_r[i]) +\")\"\n",
    "          \", translate back: (\" + str(numbering[src_r[i]]) + \",\" + str(numbering[dst_r[i]]) +\")\"\n",
    "         )\n"
   ]
  },
  {
   "cell_type": "markdown",
   "metadata": {},
   "source": [
    "# Now let's do some graph things...\n",
    "\n",
    "To start, let's run page rank.  Not particularly interesting on our circle, since everything should have an equal rank."
   ]
  },
  {
   "cell_type": "code",
   "execution_count": 7,
   "metadata": {},
   "outputs": [
    {
     "data": {
      "text/html": [
       "<div>\n",
       "<style scoped>\n",
       "    .dataframe tbody tr th:only-of-type {\n",
       "        vertical-align: middle;\n",
       "    }\n",
       "\n",
       "    .dataframe tbody tr th {\n",
       "        vertical-align: top;\n",
       "    }\n",
       "\n",
       "    .dataframe thead th {\n",
       "        text-align: right;\n",
       "    }\n",
       "</style>\n",
       "<table border=\"1\" class=\"dataframe\">\n",
       "  <thead>\n",
       "    <tr style=\"text-align: right;\">\n",
       "      <th></th>\n",
       "      <th>vertex</th>\n",
       "      <th>pagerank</th>\n",
       "      <th>original id</th>\n",
       "    </tr>\n",
       "  </thead>\n",
       "  <tbody>\n",
       "    <tr>\n",
       "      <th>0</th>\n",
       "      <td>0</td>\n",
       "      <td>0.25</td>\n",
       "      <td>3638852049</td>\n",
       "    </tr>\n",
       "    <tr>\n",
       "      <th>1</th>\n",
       "      <td>1</td>\n",
       "      <td>0.25</td>\n",
       "      <td>3232235777</td>\n",
       "    </tr>\n",
       "    <tr>\n",
       "      <th>2</th>\n",
       "      <td>2</td>\n",
       "      <td>0.25</td>\n",
       "      <td>2899903982</td>\n",
       "    </tr>\n",
       "    <tr>\n",
       "      <th>3</th>\n",
       "      <td>3</td>\n",
       "      <td>0.25</td>\n",
       "      <td>3222282007</td>\n",
       "    </tr>\n",
       "  </tbody>\n",
       "</table>\n",
       "</div>"
      ],
      "text/plain": [
       "   vertex  pagerank  original id\n",
       "0       0      0.25   3638852049\n",
       "1       1      0.25   3232235777\n",
       "2       2      0.25   2899903982\n",
       "3       3      0.25   3222282007"
      ]
     },
     "execution_count": 7,
     "metadata": {},
     "output_type": "execute_result"
    }
   ],
   "source": [
    "G = cugraph.Graph()\n",
    "G.add_edge_list(src_r, dst_r)\n",
    "\n",
    "pr = cugraph.pagerank(G)\n",
    "\n",
    "pr.add_column(\"original id\", numbering)\n",
    "pr.to_pandas()\n"
   ]
  },
  {
   "cell_type": "markdown",
   "metadata": {},
   "source": [
    "# Try to run jaccard\n",
    "\n",
    "Not at all an interesting result, but it demonstrates a more complicated case.  Jaccard returns a coefficient for each edge.  In order to show the original ids we need to add columns to the data frame for each column that contains one of renumbered vertices.  In this case, the columns source and destination contain renumbered vertex ids."
   ]
  },
  {
   "cell_type": "code",
   "execution_count": 8,
   "metadata": {},
   "outputs": [
    {
     "data": {
      "text/html": [
       "<div>\n",
       "<style scoped>\n",
       "    .dataframe tbody tr th:only-of-type {\n",
       "        vertical-align: middle;\n",
       "    }\n",
       "\n",
       "    .dataframe tbody tr th {\n",
       "        vertical-align: top;\n",
       "    }\n",
       "\n",
       "    .dataframe thead th {\n",
       "        text-align: right;\n",
       "    }\n",
       "</style>\n",
       "<table border=\"1\" class=\"dataframe\">\n",
       "  <thead>\n",
       "    <tr style=\"text-align: right;\">\n",
       "      <th></th>\n",
       "      <th>source</th>\n",
       "      <th>destination</th>\n",
       "      <th>jaccard_coeff</th>\n",
       "      <th>original_source</th>\n",
       "      <th>original_destination</th>\n",
       "    </tr>\n",
       "  </thead>\n",
       "  <tbody>\n",
       "    <tr>\n",
       "      <th>0</th>\n",
       "      <td>0</td>\n",
       "      <td>3</td>\n",
       "      <td>0.0</td>\n",
       "      <td>216.228.121.209</td>\n",
       "      <td>192.16.31.23</td>\n",
       "    </tr>\n",
       "    <tr>\n",
       "      <th>1</th>\n",
       "      <td>1</td>\n",
       "      <td>2</td>\n",
       "      <td>0.0</td>\n",
       "      <td>192.168.1.1</td>\n",
       "      <td>172.217.5.238</td>\n",
       "    </tr>\n",
       "    <tr>\n",
       "      <th>2</th>\n",
       "      <td>2</td>\n",
       "      <td>0</td>\n",
       "      <td>0.0</td>\n",
       "      <td>172.217.5.238</td>\n",
       "      <td>216.228.121.209</td>\n",
       "    </tr>\n",
       "    <tr>\n",
       "      <th>3</th>\n",
       "      <td>3</td>\n",
       "      <td>1</td>\n",
       "      <td>0.0</td>\n",
       "      <td>192.16.31.23</td>\n",
       "      <td>192.168.1.1</td>\n",
       "    </tr>\n",
       "  </tbody>\n",
       "</table>\n",
       "</div>"
      ],
      "text/plain": [
       "   source  destination  jaccard_coeff  original_source original_destination\n",
       "0       0            3            0.0  216.228.121.209         192.16.31.23\n",
       "1       1            2            0.0      192.168.1.1        172.217.5.238\n",
       "2       2            0            0.0    172.217.5.238      216.228.121.209\n",
       "3       3            1            0.0     192.16.31.23          192.168.1.1"
      ]
     },
     "execution_count": 8,
     "metadata": {},
     "output_type": "execute_result"
    }
   ],
   "source": [
    "jac = cugraph.jaccard(G)\n",
    "\n",
    "jac.add_column(\"original_source\",\n",
    "               [ socket.inet_ntoa(struct.pack('!L', numbering[x])) for x in jac['source'] ])\n",
    "\n",
    "jac.add_column(\"original_destination\",\n",
    "               [ socket.inet_ntoa(struct.pack('!L', numbering[x])) for x in jac['destination'] ])\n",
    "\n",
    "jac.to_pandas()\n"
   ]
  },
  {
   "cell_type": "markdown",
   "metadata": {},
   "source": [
    "___\n",
    "Copyright (c) 2019, NVIDIA CORPORATION.\n",
    "\n",
    "Licensed under the Apache License, Version 2.0 (the \"License\");  you may not use this file except in compliance with the License. You may obtain a copy of the License at http://www.apache.org/licenses/LICENSE-2.0\n",
    "\n",
    "Unless required by applicable law or agreed to in writing, software distributed under the License is distributed on an \"AS IS\" BASIS, WITHOUT WARRANTIES OR CONDITIONS OF ANY KIND, either express or implied. See the License for the specific language governing permissions and limitations under the License.\n",
    "___"
   ]
  },
  {
   "cell_type": "code",
   "execution_count": null,
   "metadata": {},
   "outputs": [],
   "source": []
  }
 ],
 "metadata": {
  "kernelspec": {
   "display_name": "Python 3",
   "language": "python",
   "name": "python3"
  },
  "language_info": {
   "codemirror_mode": {
    "name": "ipython",
    "version": 3
   },
   "file_extension": ".py",
   "mimetype": "text/x-python",
   "name": "python",
   "nbconvert_exporter": "python",
   "pygments_lexer": "ipython3",
   "version": "3.7.3"
  }
 },
 "nbformat": 4,
 "nbformat_minor": 2
}
