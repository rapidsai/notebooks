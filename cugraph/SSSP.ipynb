{
 "cells": [
  {
   "cell_type": "markdown",
   "metadata": {},
   "source": [
    "# Single Source Shortest Path (SSSP)\n",
    "\n",
    "In this notebook, we will use cuGraph to compute the shortest path from a starting vertex to everyother vertex in our training dataset.\n",
    "\n",
    "Notebook Credits\n",
    "* Original Authors: Bradley Rees and James Wyles\n",
    "* Last Edit: 05/01/2019\n",
    "\n",
    "RAPIDS Versions: 0.7.0    \n",
    "\n",
    "Test Hardware\n",
    "\n",
    "* GP100 32G, CUDA 9,2\n",
    "\n",
    "\n",
    "\n",
    "## Introduction\n",
    "\n",
    "Single source shortest path computes the shortest paths from the given starting vertex to all other reachable vertices. \n",
    "\n",
    "To compute SSSP for a graph in cuGraph we use:\n",
    "**cugraph.sssp(G, source)**\n",
    "\n",
    "Input\n",
    "* __G__: cugraph.Graph object\n",
    "* __source__: int, Index of the source vertex\n",
    "\n",
    "Returns \n",
    "* __df__:  a cudf.DataFrame object with two columns:\n",
    "    * df['vertex']: The vertex identifier for the vertex\n",
    "    * df['distance']: The computed distance from the source vertex to this vertex\n",
    "\n",
    "\n",
    "## cuGraph 0.7 Notice \n",
    "cuGraph version 0.7 has some limitations:\n",
    "* Only Int32 Vertex ID are supported\n",
    "* Only float (FP32) edge data is supported\n",
    "* Vertex numbering is assumed to start at zero\n",
    "\n",
    "These limitations are being addressed and will be fixed future versions.  \n",
    "These example notebooks will illustrate how to manipulate the data so that it comforms to the current limitations    \n",
    "    \n",
    "\n"
   ]
  },
  {
   "cell_type": "markdown",
   "metadata": {},
   "source": [
    "### Test Data\n",
    "We will be using the Zachary Karate club dataset \n",
    "*W. W. Zachary, An information flow model for conflict and fission in small groups, Journal of\n",
    "Anthropological Research 33, 452-473 (1977).*\n",
    "\n",
    "\n",
    "![Karate Club](./img/zachary_black_lines.png)\n",
    "\n",
    "This is a small graph which allows for easy visual inspection to validate results.  \n",
    "__Note__: The Karate dataset starts with vertex ID 1 which the cuGraph analytics assume a zero-based starting ID.  "
   ]
  },
  {
   "cell_type": "code",
   "execution_count": null,
   "metadata": {},
   "outputs": [],
   "source": [
    "# Import needed libraries\n",
    "import cugraph\n",
    "import cudf\n",
    "from collections import OrderedDict"
   ]
  },
  {
   "cell_type": "markdown",
   "metadata": {},
   "source": [
    "### Read the data and adjust the vertex IDs"
   ]
  },
  {
   "cell_type": "code",
   "execution_count": null,
   "metadata": {},
   "outputs": [],
   "source": [
    "# Test file  - using the clasic Karate club dataset.  \n",
    "datafile='./data/karate-data.csv'"
   ]
  },
  {
   "cell_type": "code",
   "execution_count": null,
   "metadata": {},
   "outputs": [],
   "source": [
    "# Read the data file\n",
    "cols = [\"src\", \"dst\"]\n",
    "\n",
    "dtypes = OrderedDict([\n",
    "        (\"src\", \"int32\"), \n",
    "        (\"dst\", \"int32\")\n",
    "        ])\n",
    "\n",
    "gdf = cudf.read_csv(datafile, names=cols, delimiter='\\t', dtype=list(dtypes.values()) )"
   ]
  },
  {
   "cell_type": "code",
   "execution_count": null,
   "metadata": {},
   "outputs": [],
   "source": [
    "# Need to shift the vertex IDs to start with zero rather than one (next version of cuGraph will fix this issue)\n",
    "gdf[\"src_0\"] = gdf[\"src\"] - 1\n",
    "gdf[\"dst_0\"] = gdf[\"dst\"] - 1"
   ]
  },
  {
   "cell_type": "code",
   "execution_count": null,
   "metadata": {},
   "outputs": [],
   "source": [
    "gdf.head().to_pandas()"
   ]
  },
  {
   "cell_type": "markdown",
   "metadata": {},
   "source": [
    "### Create a Graph and call SSSP"
   ]
  },
  {
   "cell_type": "code",
   "execution_count": null,
   "metadata": {},
   "outputs": [],
   "source": [
    "# create a Graph \n",
    "G = cugraph.Graph()\n",
    "G.add_edge_list(gdf[\"src_0\"], gdf[\"dst_0\"])"
   ]
  },
  {
   "cell_type": "code",
   "execution_count": null,
   "metadata": {},
   "outputs": [],
   "source": [
    "# Call cugraph.sssp to get the distances from vertex 0:\n",
    "df = cugraph.sssp(G, 0)"
   ]
  },
  {
   "cell_type": "code",
   "execution_count": null,
   "metadata": {},
   "outputs": [],
   "source": [
    "# Find the farthest vertex from the source using the distances:\n",
    "# __note__ the vertex ID is shifted back to 1-based so that it can be seen on picture above\n",
    "bestDist = df['distance'][0]\n",
    "bestVert = df['vertex'][0]\n",
    "for i in range(len(df)):\n",
    "    if df['distance'][i] > bestDist:\n",
    "        bestDist = df['distance'][i]\n",
    "        bestVert = df['vertex'][i]\n",
    "print(\"Farthest vertex is \" + str(bestVert + 1) + \" with distance of \" + str(bestDist))"
   ]
  },
  {
   "cell_type": "markdown",
   "metadata": {},
   "source": [
    "There are a number of vertices with the same distance of 3"
   ]
  },
  {
   "cell_type": "markdown",
   "metadata": {},
   "source": [
    "___\n",
    "Copyright (c) 2019, NVIDIA CORPORATION.\n",
    "\n",
    "Licensed under the Apache License, Version 2.0 (the \"License\");  you may not use this file except in compliance with the License. You may obtain a copy of the License at http://www.apache.org/licenses/LICENSE-2.0\n",
    "\n",
    "Unless required by applicable law or agreed to in writing, software distributed under the License is distributed on an \"AS IS\" BASIS, WITHOUT WARRANTIES OR CONDITIONS OF ANY KIND, either express or implied. See the License for the specific language governing permissions and limitations under the License.\n",
    "___"
   ]
  }
 ],
 "metadata": {
  "kernelspec": {
   "display_name": "Python 3",
   "language": "python",
   "name": "python3"
  },
  "language_info": {
   "codemirror_mode": {
    "name": "ipython",
    "version": 3
   },
   "file_extension": ".py",
   "mimetype": "text/x-python",
   "name": "python",
   "nbconvert_exporter": "python",
   "pygments_lexer": "ipython3",
   "version": "3.7.3"
  }
 },
 "nbformat": 4,
 "nbformat_minor": 2
}
